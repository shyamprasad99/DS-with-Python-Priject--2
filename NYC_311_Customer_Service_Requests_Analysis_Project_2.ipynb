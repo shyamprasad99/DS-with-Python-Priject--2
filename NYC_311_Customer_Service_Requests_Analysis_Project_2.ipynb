{
  "cells": [
    {
      "cell_type": "markdown",
      "id": "077c77f4",
      "metadata": {
        "id": "077c77f4"
      },
      "source": [
        "# NYC 311 : Customer Service Requests Analysis"
      ]
    },
    {
      "cell_type": "markdown",
      "id": "deac3b96",
      "metadata": {
        "id": "deac3b96"
      },
      "source": [
        "# Importing Packages"
      ]
    },
    {
      "cell_type": "code",
      "execution_count": 1,
      "id": "8e94d929",
      "metadata": {
        "id": "8e94d929"
      },
      "outputs": [],
      "source": [
        "import pandas as pd\n",
        "import numpy as np\n",
        "import matplotlib.pyplot as plt\n",
        "import seaborn as sns \n",
        "%matplotlib inline\n",
        "from datetime import datetime"
      ]
    },
    {
      "cell_type": "markdown",
      "id": "13f82d68",
      "metadata": {
        "id": "13f82d68"
      },
      "source": [
        "# Task 1: Import a 311 NYC service request"
      ]
    },
    {
      "cell_type": "code",
      "execution_count": 2,
      "id": "a1f46bec",
      "metadata": {
        "id": "a1f46bec"
      },
      "outputs": [],
      "source": [
        "data=pd.read_csv(\"311_Service_Requests_from_2010_to_Present.csv\",low_memory=False)"
      ]
    },
    {
      "cell_type": "code",
      "execution_count": null,
      "id": "8119f0c0",
      "metadata": {
        "id": "8119f0c0",
        "outputId": "ba8bc593-999f-42e0-810f-7e27010e3226"
      },
      "outputs": [
        {
          "data": {
            "text/html": [
              "<div>\n",
              "<style scoped>\n",
              "    .dataframe tbody tr th:only-of-type {\n",
              "        vertical-align: middle;\n",
              "    }\n",
              "\n",
              "    .dataframe tbody tr th {\n",
              "        vertical-align: top;\n",
              "    }\n",
              "\n",
              "    .dataframe thead th {\n",
              "        text-align: right;\n",
              "    }\n",
              "</style>\n",
              "<table border=\"1\" class=\"dataframe\">\n",
              "  <thead>\n",
              "    <tr style=\"text-align: right;\">\n",
              "      <th></th>\n",
              "      <th>Unique Key</th>\n",
              "      <th>Created Date</th>\n",
              "      <th>Closed Date</th>\n",
              "      <th>Agency</th>\n",
              "      <th>Agency Name</th>\n",
              "      <th>Complaint Type</th>\n",
              "      <th>Descriptor</th>\n",
              "      <th>Location Type</th>\n",
              "      <th>Incident Zip</th>\n",
              "      <th>Incident Address</th>\n",
              "      <th>...</th>\n",
              "      <th>Bridge Highway Name</th>\n",
              "      <th>Bridge Highway Direction</th>\n",
              "      <th>Road Ramp</th>\n",
              "      <th>Bridge Highway Segment</th>\n",
              "      <th>Garage Lot Name</th>\n",
              "      <th>Ferry Direction</th>\n",
              "      <th>Ferry Terminal Name</th>\n",
              "      <th>Latitude</th>\n",
              "      <th>Longitude</th>\n",
              "      <th>Location</th>\n",
              "    </tr>\n",
              "  </thead>\n",
              "  <tbody>\n",
              "    <tr>\n",
              "      <th>0</th>\n",
              "      <td>32310363</td>\n",
              "      <td>12/31/2015 11:59:45 PM</td>\n",
              "      <td>01-01-16 0:55</td>\n",
              "      <td>NYPD</td>\n",
              "      <td>New York City Police Department</td>\n",
              "      <td>Noise - Street/Sidewalk</td>\n",
              "      <td>Loud Music/Party</td>\n",
              "      <td>Street/Sidewalk</td>\n",
              "      <td>10034.0</td>\n",
              "      <td>71 VERMILYEA AVENUE</td>\n",
              "      <td>...</td>\n",
              "      <td>NaN</td>\n",
              "      <td>NaN</td>\n",
              "      <td>NaN</td>\n",
              "      <td>NaN</td>\n",
              "      <td>NaN</td>\n",
              "      <td>NaN</td>\n",
              "      <td>NaN</td>\n",
              "      <td>40.865682</td>\n",
              "      <td>-73.923501</td>\n",
              "      <td>(40.86568153633767, -73.92350095571744)</td>\n",
              "    </tr>\n",
              "    <tr>\n",
              "      <th>1</th>\n",
              "      <td>32309934</td>\n",
              "      <td>12/31/2015 11:59:44 PM</td>\n",
              "      <td>01-01-16 1:26</td>\n",
              "      <td>NYPD</td>\n",
              "      <td>New York City Police Department</td>\n",
              "      <td>Blocked Driveway</td>\n",
              "      <td>No Access</td>\n",
              "      <td>Street/Sidewalk</td>\n",
              "      <td>11105.0</td>\n",
              "      <td>27-07 23 AVENUE</td>\n",
              "      <td>...</td>\n",
              "      <td>NaN</td>\n",
              "      <td>NaN</td>\n",
              "      <td>NaN</td>\n",
              "      <td>NaN</td>\n",
              "      <td>NaN</td>\n",
              "      <td>NaN</td>\n",
              "      <td>NaN</td>\n",
              "      <td>40.775945</td>\n",
              "      <td>-73.915094</td>\n",
              "      <td>(40.775945312321085, -73.91509393898605)</td>\n",
              "    </tr>\n",
              "    <tr>\n",
              "      <th>2</th>\n",
              "      <td>32309159</td>\n",
              "      <td>12/31/2015 11:59:29 PM</td>\n",
              "      <td>01-01-16 4:51</td>\n",
              "      <td>NYPD</td>\n",
              "      <td>New York City Police Department</td>\n",
              "      <td>Blocked Driveway</td>\n",
              "      <td>No Access</td>\n",
              "      <td>Street/Sidewalk</td>\n",
              "      <td>10458.0</td>\n",
              "      <td>2897 VALENTINE AVENUE</td>\n",
              "      <td>...</td>\n",
              "      <td>NaN</td>\n",
              "      <td>NaN</td>\n",
              "      <td>NaN</td>\n",
              "      <td>NaN</td>\n",
              "      <td>NaN</td>\n",
              "      <td>NaN</td>\n",
              "      <td>NaN</td>\n",
              "      <td>40.870325</td>\n",
              "      <td>-73.888525</td>\n",
              "      <td>(40.870324522111424, -73.88852464418646)</td>\n",
              "    </tr>\n",
              "    <tr>\n",
              "      <th>3</th>\n",
              "      <td>32305098</td>\n",
              "      <td>12/31/2015 11:57:46 PM</td>\n",
              "      <td>01-01-16 7:43</td>\n",
              "      <td>NYPD</td>\n",
              "      <td>New York City Police Department</td>\n",
              "      <td>Illegal Parking</td>\n",
              "      <td>Commercial Overnight Parking</td>\n",
              "      <td>Street/Sidewalk</td>\n",
              "      <td>10461.0</td>\n",
              "      <td>2940 BAISLEY AVENUE</td>\n",
              "      <td>...</td>\n",
              "      <td>NaN</td>\n",
              "      <td>NaN</td>\n",
              "      <td>NaN</td>\n",
              "      <td>NaN</td>\n",
              "      <td>NaN</td>\n",
              "      <td>NaN</td>\n",
              "      <td>NaN</td>\n",
              "      <td>40.835994</td>\n",
              "      <td>-73.828379</td>\n",
              "      <td>(40.83599404683083, -73.82837939584206)</td>\n",
              "    </tr>\n",
              "    <tr>\n",
              "      <th>4</th>\n",
              "      <td>32306529</td>\n",
              "      <td>12/31/2015 11:56:58 PM</td>\n",
              "      <td>01-01-16 3:24</td>\n",
              "      <td>NYPD</td>\n",
              "      <td>New York City Police Department</td>\n",
              "      <td>Illegal Parking</td>\n",
              "      <td>Blocked Sidewalk</td>\n",
              "      <td>Street/Sidewalk</td>\n",
              "      <td>11373.0</td>\n",
              "      <td>87-14 57 ROAD</td>\n",
              "      <td>...</td>\n",
              "      <td>NaN</td>\n",
              "      <td>NaN</td>\n",
              "      <td>NaN</td>\n",
              "      <td>NaN</td>\n",
              "      <td>NaN</td>\n",
              "      <td>NaN</td>\n",
              "      <td>NaN</td>\n",
              "      <td>40.733060</td>\n",
              "      <td>-73.874170</td>\n",
              "      <td>(40.733059618956815, -73.87416975810375)</td>\n",
              "    </tr>\n",
              "    <tr>\n",
              "      <th>...</th>\n",
              "      <td>...</td>\n",
              "      <td>...</td>\n",
              "      <td>...</td>\n",
              "      <td>...</td>\n",
              "      <td>...</td>\n",
              "      <td>...</td>\n",
              "      <td>...</td>\n",
              "      <td>...</td>\n",
              "      <td>...</td>\n",
              "      <td>...</td>\n",
              "      <td>...</td>\n",
              "      <td>...</td>\n",
              "      <td>...</td>\n",
              "      <td>...</td>\n",
              "      <td>...</td>\n",
              "      <td>...</td>\n",
              "      <td>...</td>\n",
              "      <td>...</td>\n",
              "      <td>...</td>\n",
              "      <td>...</td>\n",
              "      <td>...</td>\n",
              "    </tr>\n",
              "    <tr>\n",
              "      <th>300693</th>\n",
              "      <td>30281872</td>\n",
              "      <td>03/29/2015 12:33:41 AM</td>\n",
              "      <td>NaN</td>\n",
              "      <td>NYPD</td>\n",
              "      <td>New York City Police Department</td>\n",
              "      <td>Noise - Commercial</td>\n",
              "      <td>Loud Music/Party</td>\n",
              "      <td>Club/Bar/Restaurant</td>\n",
              "      <td>NaN</td>\n",
              "      <td>CRESCENT AVENUE</td>\n",
              "      <td>...</td>\n",
              "      <td>NaN</td>\n",
              "      <td>NaN</td>\n",
              "      <td>NaN</td>\n",
              "      <td>NaN</td>\n",
              "      <td>NaN</td>\n",
              "      <td>NaN</td>\n",
              "      <td>NaN</td>\n",
              "      <td>NaN</td>\n",
              "      <td>NaN</td>\n",
              "      <td>NaN</td>\n",
              "    </tr>\n",
              "    <tr>\n",
              "      <th>300694</th>\n",
              "      <td>30281230</td>\n",
              "      <td>03/29/2015 12:33:28 AM</td>\n",
              "      <td>03/29/2015 02:33:59 AM</td>\n",
              "      <td>NYPD</td>\n",
              "      <td>New York City Police Department</td>\n",
              "      <td>Blocked Driveway</td>\n",
              "      <td>Partial Access</td>\n",
              "      <td>Street/Sidewalk</td>\n",
              "      <td>11418.0</td>\n",
              "      <td>100-17 87 AVENUE</td>\n",
              "      <td>...</td>\n",
              "      <td>NaN</td>\n",
              "      <td>NaN</td>\n",
              "      <td>NaN</td>\n",
              "      <td>NaN</td>\n",
              "      <td>NaN</td>\n",
              "      <td>NaN</td>\n",
              "      <td>NaN</td>\n",
              "      <td>40.694077</td>\n",
              "      <td>-73.846087</td>\n",
              "      <td>(40.69407728322387, -73.8460866160573)</td>\n",
              "    </tr>\n",
              "    <tr>\n",
              "      <th>300695</th>\n",
              "      <td>30283424</td>\n",
              "      <td>03/29/2015 12:33:03 AM</td>\n",
              "      <td>03/29/2015 03:40:20 AM</td>\n",
              "      <td>NYPD</td>\n",
              "      <td>New York City Police Department</td>\n",
              "      <td>Noise - Commercial</td>\n",
              "      <td>Loud Music/Party</td>\n",
              "      <td>Club/Bar/Restaurant</td>\n",
              "      <td>11206.0</td>\n",
              "      <td>162 THROOP AVENUE</td>\n",
              "      <td>...</td>\n",
              "      <td>NaN</td>\n",
              "      <td>NaN</td>\n",
              "      <td>NaN</td>\n",
              "      <td>NaN</td>\n",
              "      <td>NaN</td>\n",
              "      <td>NaN</td>\n",
              "      <td>NaN</td>\n",
              "      <td>40.699590</td>\n",
              "      <td>-73.944234</td>\n",
              "      <td>(40.69959035300927, -73.94423377144169)</td>\n",
              "    </tr>\n",
              "    <tr>\n",
              "      <th>300696</th>\n",
              "      <td>30280004</td>\n",
              "      <td>03/29/2015 12:33:02 AM</td>\n",
              "      <td>03/29/2015 04:38:35 AM</td>\n",
              "      <td>NYPD</td>\n",
              "      <td>New York City Police Department</td>\n",
              "      <td>Noise - Commercial</td>\n",
              "      <td>Loud Music/Party</td>\n",
              "      <td>Club/Bar/Restaurant</td>\n",
              "      <td>10461.0</td>\n",
              "      <td>3151 EAST TREMONT AVENUE</td>\n",
              "      <td>...</td>\n",
              "      <td>NaN</td>\n",
              "      <td>NaN</td>\n",
              "      <td>NaN</td>\n",
              "      <td>NaN</td>\n",
              "      <td>NaN</td>\n",
              "      <td>NaN</td>\n",
              "      <td>NaN</td>\n",
              "      <td>40.837708</td>\n",
              "      <td>-73.834587</td>\n",
              "      <td>(40.8377075854206, -73.83458731019586)</td>\n",
              "    </tr>\n",
              "    <tr>\n",
              "      <th>300697</th>\n",
              "      <td>30281825</td>\n",
              "      <td>03/29/2015 12:33:01 AM</td>\n",
              "      <td>03/29/2015 04:41:50 AM</td>\n",
              "      <td>NYPD</td>\n",
              "      <td>New York City Police Department</td>\n",
              "      <td>Noise - Commercial</td>\n",
              "      <td>Loud Music/Party</td>\n",
              "      <td>Store/Commercial</td>\n",
              "      <td>10036.0</td>\n",
              "      <td>251 WEST 48 STREET</td>\n",
              "      <td>...</td>\n",
              "      <td>NaN</td>\n",
              "      <td>NaN</td>\n",
              "      <td>NaN</td>\n",
              "      <td>NaN</td>\n",
              "      <td>NaN</td>\n",
              "      <td>NaN</td>\n",
              "      <td>NaN</td>\n",
              "      <td>40.760583</td>\n",
              "      <td>-73.985922</td>\n",
              "      <td>(40.76058322950115, -73.98592204392392)</td>\n",
              "    </tr>\n",
              "  </tbody>\n",
              "</table>\n",
              "<p>300698 rows × 53 columns</p>\n",
              "</div>"
            ],
            "text/plain": [
              "        Unique Key            Created Date             Closed Date Agency  \\\n",
              "0         32310363  12/31/2015 11:59:45 PM           01-01-16 0:55   NYPD   \n",
              "1         32309934  12/31/2015 11:59:44 PM           01-01-16 1:26   NYPD   \n",
              "2         32309159  12/31/2015 11:59:29 PM           01-01-16 4:51   NYPD   \n",
              "3         32305098  12/31/2015 11:57:46 PM           01-01-16 7:43   NYPD   \n",
              "4         32306529  12/31/2015 11:56:58 PM           01-01-16 3:24   NYPD   \n",
              "...            ...                     ...                     ...    ...   \n",
              "300693    30281872  03/29/2015 12:33:41 AM                     NaN   NYPD   \n",
              "300694    30281230  03/29/2015 12:33:28 AM  03/29/2015 02:33:59 AM   NYPD   \n",
              "300695    30283424  03/29/2015 12:33:03 AM  03/29/2015 03:40:20 AM   NYPD   \n",
              "300696    30280004  03/29/2015 12:33:02 AM  03/29/2015 04:38:35 AM   NYPD   \n",
              "300697    30281825  03/29/2015 12:33:01 AM  03/29/2015 04:41:50 AM   NYPD   \n",
              "\n",
              "                            Agency Name           Complaint Type  \\\n",
              "0       New York City Police Department  Noise - Street/Sidewalk   \n",
              "1       New York City Police Department         Blocked Driveway   \n",
              "2       New York City Police Department         Blocked Driveway   \n",
              "3       New York City Police Department          Illegal Parking   \n",
              "4       New York City Police Department          Illegal Parking   \n",
              "...                                 ...                      ...   \n",
              "300693  New York City Police Department       Noise - Commercial   \n",
              "300694  New York City Police Department         Blocked Driveway   \n",
              "300695  New York City Police Department       Noise - Commercial   \n",
              "300696  New York City Police Department       Noise - Commercial   \n",
              "300697  New York City Police Department       Noise - Commercial   \n",
              "\n",
              "                          Descriptor        Location Type  Incident Zip  \\\n",
              "0                   Loud Music/Party      Street/Sidewalk       10034.0   \n",
              "1                          No Access      Street/Sidewalk       11105.0   \n",
              "2                          No Access      Street/Sidewalk       10458.0   \n",
              "3       Commercial Overnight Parking      Street/Sidewalk       10461.0   \n",
              "4                   Blocked Sidewalk      Street/Sidewalk       11373.0   \n",
              "...                              ...                  ...           ...   \n",
              "300693              Loud Music/Party  Club/Bar/Restaurant           NaN   \n",
              "300694                Partial Access      Street/Sidewalk       11418.0   \n",
              "300695              Loud Music/Party  Club/Bar/Restaurant       11206.0   \n",
              "300696              Loud Music/Party  Club/Bar/Restaurant       10461.0   \n",
              "300697              Loud Music/Party     Store/Commercial       10036.0   \n",
              "\n",
              "                Incident Address  ... Bridge Highway Name  \\\n",
              "0            71 VERMILYEA AVENUE  ...                 NaN   \n",
              "1                27-07 23 AVENUE  ...                 NaN   \n",
              "2          2897 VALENTINE AVENUE  ...                 NaN   \n",
              "3            2940 BAISLEY AVENUE  ...                 NaN   \n",
              "4                  87-14 57 ROAD  ...                 NaN   \n",
              "...                          ...  ...                 ...   \n",
              "300693           CRESCENT AVENUE  ...                 NaN   \n",
              "300694          100-17 87 AVENUE  ...                 NaN   \n",
              "300695         162 THROOP AVENUE  ...                 NaN   \n",
              "300696  3151 EAST TREMONT AVENUE  ...                 NaN   \n",
              "300697        251 WEST 48 STREET  ...                 NaN   \n",
              "\n",
              "       Bridge Highway Direction Road Ramp Bridge Highway Segment  \\\n",
              "0                           NaN       NaN                    NaN   \n",
              "1                           NaN       NaN                    NaN   \n",
              "2                           NaN       NaN                    NaN   \n",
              "3                           NaN       NaN                    NaN   \n",
              "4                           NaN       NaN                    NaN   \n",
              "...                         ...       ...                    ...   \n",
              "300693                      NaN       NaN                    NaN   \n",
              "300694                      NaN       NaN                    NaN   \n",
              "300695                      NaN       NaN                    NaN   \n",
              "300696                      NaN       NaN                    NaN   \n",
              "300697                      NaN       NaN                    NaN   \n",
              "\n",
              "       Garage Lot Name Ferry Direction Ferry Terminal Name   Latitude  \\\n",
              "0                  NaN             NaN                 NaN  40.865682   \n",
              "1                  NaN             NaN                 NaN  40.775945   \n",
              "2                  NaN             NaN                 NaN  40.870325   \n",
              "3                  NaN             NaN                 NaN  40.835994   \n",
              "4                  NaN             NaN                 NaN  40.733060   \n",
              "...                ...             ...                 ...        ...   \n",
              "300693             NaN             NaN                 NaN        NaN   \n",
              "300694             NaN             NaN                 NaN  40.694077   \n",
              "300695             NaN             NaN                 NaN  40.699590   \n",
              "300696             NaN             NaN                 NaN  40.837708   \n",
              "300697             NaN             NaN                 NaN  40.760583   \n",
              "\n",
              "        Longitude                                  Location  \n",
              "0      -73.923501   (40.86568153633767, -73.92350095571744)  \n",
              "1      -73.915094  (40.775945312321085, -73.91509393898605)  \n",
              "2      -73.888525  (40.870324522111424, -73.88852464418646)  \n",
              "3      -73.828379   (40.83599404683083, -73.82837939584206)  \n",
              "4      -73.874170  (40.733059618956815, -73.87416975810375)  \n",
              "...           ...                                       ...  \n",
              "300693        NaN                                       NaN  \n",
              "300694 -73.846087    (40.69407728322387, -73.8460866160573)  \n",
              "300695 -73.944234   (40.69959035300927, -73.94423377144169)  \n",
              "300696 -73.834587    (40.8377075854206, -73.83458731019586)  \n",
              "300697 -73.985922   (40.76058322950115, -73.98592204392392)  \n",
              "\n",
              "[300698 rows x 53 columns]"
            ]
          },
          "execution_count": 3,
          "metadata": {},
          "output_type": "execute_result"
        }
      ],
      "source": [
        "data"
      ]
    },
    {
      "cell_type": "code",
      "execution_count": 3,
      "id": "82ff5e8b",
      "metadata": {
        "colab": {
          "base_uri": "https://localhost:8080/",
          "height": 507
        },
        "id": "82ff5e8b",
        "outputId": "9428548e-3c6d-41f8-951a-784e91117ef4"
      },
      "outputs": [
        {
          "output_type": "execute_result",
          "data": {
            "text/plain": [
              "   Unique Key            Created Date    Closed Date Agency  \\\n",
              "0    32310363  12/31/2015 11:59:45 PM  01-01-16 0:55   NYPD   \n",
              "1    32309934  12/31/2015 11:59:44 PM  01-01-16 1:26   NYPD   \n",
              "2    32309159  12/31/2015 11:59:29 PM  01-01-16 4:51   NYPD   \n",
              "3    32305098  12/31/2015 11:57:46 PM  01-01-16 7:43   NYPD   \n",
              "4    32306529  12/31/2015 11:56:58 PM  01-01-16 3:24   NYPD   \n",
              "\n",
              "                       Agency Name           Complaint Type  \\\n",
              "0  New York City Police Department  Noise - Street/Sidewalk   \n",
              "1  New York City Police Department         Blocked Driveway   \n",
              "2  New York City Police Department         Blocked Driveway   \n",
              "3  New York City Police Department          Illegal Parking   \n",
              "4  New York City Police Department          Illegal Parking   \n",
              "\n",
              "                     Descriptor    Location Type  Incident Zip  \\\n",
              "0              Loud Music/Party  Street/Sidewalk       10034.0   \n",
              "1                     No Access  Street/Sidewalk       11105.0   \n",
              "2                     No Access  Street/Sidewalk       10458.0   \n",
              "3  Commercial Overnight Parking  Street/Sidewalk       10461.0   \n",
              "4              Blocked Sidewalk  Street/Sidewalk       11373.0   \n",
              "\n",
              "        Incident Address  ... Bridge Highway Name Bridge Highway Direction  \\\n",
              "0    71 VERMILYEA AVENUE  ...                 NaN                      NaN   \n",
              "1        27-07 23 AVENUE  ...                 NaN                      NaN   \n",
              "2  2897 VALENTINE AVENUE  ...                 NaN                      NaN   \n",
              "3    2940 BAISLEY AVENUE  ...                 NaN                      NaN   \n",
              "4          87-14 57 ROAD  ...                 NaN                      NaN   \n",
              "\n",
              "  Road Ramp Bridge Highway Segment Garage Lot Name Ferry Direction  \\\n",
              "0       NaN                    NaN             NaN             NaN   \n",
              "1       NaN                    NaN             NaN             NaN   \n",
              "2       NaN                    NaN             NaN             NaN   \n",
              "3       NaN                    NaN             NaN             NaN   \n",
              "4       NaN                    NaN             NaN             NaN   \n",
              "\n",
              "  Ferry Terminal Name   Latitude  Longitude  \\\n",
              "0                 NaN  40.865682 -73.923501   \n",
              "1                 NaN  40.775945 -73.915094   \n",
              "2                 NaN  40.870325 -73.888525   \n",
              "3                 NaN  40.835994 -73.828379   \n",
              "4                 NaN  40.733060 -73.874170   \n",
              "\n",
              "                                   Location  \n",
              "0   (40.86568153633767, -73.92350095571744)  \n",
              "1  (40.775945312321085, -73.91509393898605)  \n",
              "2  (40.870324522111424, -73.88852464418646)  \n",
              "3   (40.83599404683083, -73.82837939584206)  \n",
              "4  (40.733059618956815, -73.87416975810375)  \n",
              "\n",
              "[5 rows x 53 columns]"
            ],
            "text/html": [
              "\n",
              "  <div id=\"df-e30f8fd4-1ff8-4b1a-95d2-2d8b27b856ea\">\n",
              "    <div class=\"colab-df-container\">\n",
              "      <div>\n",
              "<style scoped>\n",
              "    .dataframe tbody tr th:only-of-type {\n",
              "        vertical-align: middle;\n",
              "    }\n",
              "\n",
              "    .dataframe tbody tr th {\n",
              "        vertical-align: top;\n",
              "    }\n",
              "\n",
              "    .dataframe thead th {\n",
              "        text-align: right;\n",
              "    }\n",
              "</style>\n",
              "<table border=\"1\" class=\"dataframe\">\n",
              "  <thead>\n",
              "    <tr style=\"text-align: right;\">\n",
              "      <th></th>\n",
              "      <th>Unique Key</th>\n",
              "      <th>Created Date</th>\n",
              "      <th>Closed Date</th>\n",
              "      <th>Agency</th>\n",
              "      <th>Agency Name</th>\n",
              "      <th>Complaint Type</th>\n",
              "      <th>Descriptor</th>\n",
              "      <th>Location Type</th>\n",
              "      <th>Incident Zip</th>\n",
              "      <th>Incident Address</th>\n",
              "      <th>...</th>\n",
              "      <th>Bridge Highway Name</th>\n",
              "      <th>Bridge Highway Direction</th>\n",
              "      <th>Road Ramp</th>\n",
              "      <th>Bridge Highway Segment</th>\n",
              "      <th>Garage Lot Name</th>\n",
              "      <th>Ferry Direction</th>\n",
              "      <th>Ferry Terminal Name</th>\n",
              "      <th>Latitude</th>\n",
              "      <th>Longitude</th>\n",
              "      <th>Location</th>\n",
              "    </tr>\n",
              "  </thead>\n",
              "  <tbody>\n",
              "    <tr>\n",
              "      <th>0</th>\n",
              "      <td>32310363</td>\n",
              "      <td>12/31/2015 11:59:45 PM</td>\n",
              "      <td>01-01-16 0:55</td>\n",
              "      <td>NYPD</td>\n",
              "      <td>New York City Police Department</td>\n",
              "      <td>Noise - Street/Sidewalk</td>\n",
              "      <td>Loud Music/Party</td>\n",
              "      <td>Street/Sidewalk</td>\n",
              "      <td>10034.0</td>\n",
              "      <td>71 VERMILYEA AVENUE</td>\n",
              "      <td>...</td>\n",
              "      <td>NaN</td>\n",
              "      <td>NaN</td>\n",
              "      <td>NaN</td>\n",
              "      <td>NaN</td>\n",
              "      <td>NaN</td>\n",
              "      <td>NaN</td>\n",
              "      <td>NaN</td>\n",
              "      <td>40.865682</td>\n",
              "      <td>-73.923501</td>\n",
              "      <td>(40.86568153633767, -73.92350095571744)</td>\n",
              "    </tr>\n",
              "    <tr>\n",
              "      <th>1</th>\n",
              "      <td>32309934</td>\n",
              "      <td>12/31/2015 11:59:44 PM</td>\n",
              "      <td>01-01-16 1:26</td>\n",
              "      <td>NYPD</td>\n",
              "      <td>New York City Police Department</td>\n",
              "      <td>Blocked Driveway</td>\n",
              "      <td>No Access</td>\n",
              "      <td>Street/Sidewalk</td>\n",
              "      <td>11105.0</td>\n",
              "      <td>27-07 23 AVENUE</td>\n",
              "      <td>...</td>\n",
              "      <td>NaN</td>\n",
              "      <td>NaN</td>\n",
              "      <td>NaN</td>\n",
              "      <td>NaN</td>\n",
              "      <td>NaN</td>\n",
              "      <td>NaN</td>\n",
              "      <td>NaN</td>\n",
              "      <td>40.775945</td>\n",
              "      <td>-73.915094</td>\n",
              "      <td>(40.775945312321085, -73.91509393898605)</td>\n",
              "    </tr>\n",
              "    <tr>\n",
              "      <th>2</th>\n",
              "      <td>32309159</td>\n",
              "      <td>12/31/2015 11:59:29 PM</td>\n",
              "      <td>01-01-16 4:51</td>\n",
              "      <td>NYPD</td>\n",
              "      <td>New York City Police Department</td>\n",
              "      <td>Blocked Driveway</td>\n",
              "      <td>No Access</td>\n",
              "      <td>Street/Sidewalk</td>\n",
              "      <td>10458.0</td>\n",
              "      <td>2897 VALENTINE AVENUE</td>\n",
              "      <td>...</td>\n",
              "      <td>NaN</td>\n",
              "      <td>NaN</td>\n",
              "      <td>NaN</td>\n",
              "      <td>NaN</td>\n",
              "      <td>NaN</td>\n",
              "      <td>NaN</td>\n",
              "      <td>NaN</td>\n",
              "      <td>40.870325</td>\n",
              "      <td>-73.888525</td>\n",
              "      <td>(40.870324522111424, -73.88852464418646)</td>\n",
              "    </tr>\n",
              "    <tr>\n",
              "      <th>3</th>\n",
              "      <td>32305098</td>\n",
              "      <td>12/31/2015 11:57:46 PM</td>\n",
              "      <td>01-01-16 7:43</td>\n",
              "      <td>NYPD</td>\n",
              "      <td>New York City Police Department</td>\n",
              "      <td>Illegal Parking</td>\n",
              "      <td>Commercial Overnight Parking</td>\n",
              "      <td>Street/Sidewalk</td>\n",
              "      <td>10461.0</td>\n",
              "      <td>2940 BAISLEY AVENUE</td>\n",
              "      <td>...</td>\n",
              "      <td>NaN</td>\n",
              "      <td>NaN</td>\n",
              "      <td>NaN</td>\n",
              "      <td>NaN</td>\n",
              "      <td>NaN</td>\n",
              "      <td>NaN</td>\n",
              "      <td>NaN</td>\n",
              "      <td>40.835994</td>\n",
              "      <td>-73.828379</td>\n",
              "      <td>(40.83599404683083, -73.82837939584206)</td>\n",
              "    </tr>\n",
              "    <tr>\n",
              "      <th>4</th>\n",
              "      <td>32306529</td>\n",
              "      <td>12/31/2015 11:56:58 PM</td>\n",
              "      <td>01-01-16 3:24</td>\n",
              "      <td>NYPD</td>\n",
              "      <td>New York City Police Department</td>\n",
              "      <td>Illegal Parking</td>\n",
              "      <td>Blocked Sidewalk</td>\n",
              "      <td>Street/Sidewalk</td>\n",
              "      <td>11373.0</td>\n",
              "      <td>87-14 57 ROAD</td>\n",
              "      <td>...</td>\n",
              "      <td>NaN</td>\n",
              "      <td>NaN</td>\n",
              "      <td>NaN</td>\n",
              "      <td>NaN</td>\n",
              "      <td>NaN</td>\n",
              "      <td>NaN</td>\n",
              "      <td>NaN</td>\n",
              "      <td>40.733060</td>\n",
              "      <td>-73.874170</td>\n",
              "      <td>(40.733059618956815, -73.87416975810375)</td>\n",
              "    </tr>\n",
              "  </tbody>\n",
              "</table>\n",
              "<p>5 rows × 53 columns</p>\n",
              "</div>\n",
              "      <button class=\"colab-df-convert\" onclick=\"convertToInteractive('df-e30f8fd4-1ff8-4b1a-95d2-2d8b27b856ea')\"\n",
              "              title=\"Convert this dataframe to an interactive table.\"\n",
              "              style=\"display:none;\">\n",
              "        \n",
              "  <svg xmlns=\"http://www.w3.org/2000/svg\" height=\"24px\"viewBox=\"0 0 24 24\"\n",
              "       width=\"24px\">\n",
              "    <path d=\"M0 0h24v24H0V0z\" fill=\"none\"/>\n",
              "    <path d=\"M18.56 5.44l.94 2.06.94-2.06 2.06-.94-2.06-.94-.94-2.06-.94 2.06-2.06.94zm-11 1L8.5 8.5l.94-2.06 2.06-.94-2.06-.94L8.5 2.5l-.94 2.06-2.06.94zm10 10l.94 2.06.94-2.06 2.06-.94-2.06-.94-.94-2.06-.94 2.06-2.06.94z\"/><path d=\"M17.41 7.96l-1.37-1.37c-.4-.4-.92-.59-1.43-.59-.52 0-1.04.2-1.43.59L10.3 9.45l-7.72 7.72c-.78.78-.78 2.05 0 2.83L4 21.41c.39.39.9.59 1.41.59.51 0 1.02-.2 1.41-.59l7.78-7.78 2.81-2.81c.8-.78.8-2.07 0-2.86zM5.41 20L4 18.59l7.72-7.72 1.47 1.35L5.41 20z\"/>\n",
              "  </svg>\n",
              "      </button>\n",
              "      \n",
              "  <style>\n",
              "    .colab-df-container {\n",
              "      display:flex;\n",
              "      flex-wrap:wrap;\n",
              "      gap: 12px;\n",
              "    }\n",
              "\n",
              "    .colab-df-convert {\n",
              "      background-color: #E8F0FE;\n",
              "      border: none;\n",
              "      border-radius: 50%;\n",
              "      cursor: pointer;\n",
              "      display: none;\n",
              "      fill: #1967D2;\n",
              "      height: 32px;\n",
              "      padding: 0 0 0 0;\n",
              "      width: 32px;\n",
              "    }\n",
              "\n",
              "    .colab-df-convert:hover {\n",
              "      background-color: #E2EBFA;\n",
              "      box-shadow: 0px 1px 2px rgba(60, 64, 67, 0.3), 0px 1px 3px 1px rgba(60, 64, 67, 0.15);\n",
              "      fill: #174EA6;\n",
              "    }\n",
              "\n",
              "    [theme=dark] .colab-df-convert {\n",
              "      background-color: #3B4455;\n",
              "      fill: #D2E3FC;\n",
              "    }\n",
              "\n",
              "    [theme=dark] .colab-df-convert:hover {\n",
              "      background-color: #434B5C;\n",
              "      box-shadow: 0px 1px 3px 1px rgba(0, 0, 0, 0.15);\n",
              "      filter: drop-shadow(0px 1px 2px rgba(0, 0, 0, 0.3));\n",
              "      fill: #FFFFFF;\n",
              "    }\n",
              "  </style>\n",
              "\n",
              "      <script>\n",
              "        const buttonEl =\n",
              "          document.querySelector('#df-e30f8fd4-1ff8-4b1a-95d2-2d8b27b856ea button.colab-df-convert');\n",
              "        buttonEl.style.display =\n",
              "          google.colab.kernel.accessAllowed ? 'block' : 'none';\n",
              "\n",
              "        async function convertToInteractive(key) {\n",
              "          const element = document.querySelector('#df-e30f8fd4-1ff8-4b1a-95d2-2d8b27b856ea');\n",
              "          const dataTable =\n",
              "            await google.colab.kernel.invokeFunction('convertToInteractive',\n",
              "                                                     [key], {});\n",
              "          if (!dataTable) return;\n",
              "\n",
              "          const docLinkHtml = 'Like what you see? Visit the ' +\n",
              "            '<a target=\"_blank\" href=https://colab.research.google.com/notebooks/data_table.ipynb>data table notebook</a>'\n",
              "            + ' to learn more about interactive tables.';\n",
              "          element.innerHTML = '';\n",
              "          dataTable['output_type'] = 'display_data';\n",
              "          await google.colab.output.renderOutput(dataTable, element);\n",
              "          const docLink = document.createElement('div');\n",
              "          docLink.innerHTML = docLinkHtml;\n",
              "          element.appendChild(docLink);\n",
              "        }\n",
              "      </script>\n",
              "    </div>\n",
              "  </div>\n",
              "  "
            ]
          },
          "metadata": {},
          "execution_count": 3
        }
      ],
      "source": [
        "data.head(5)"
      ]
    },
    {
      "cell_type": "code",
      "execution_count": 4,
      "id": "33fceb44",
      "metadata": {
        "colab": {
          "base_uri": "https://localhost:8080/"
        },
        "id": "33fceb44",
        "outputId": "cb1986ed-9ac1-4032-d9c0-3caae374dcb9"
      },
      "outputs": [
        {
          "output_type": "execute_result",
          "data": {
            "text/plain": [
              "Index(['Unique Key', 'Created Date', 'Closed Date', 'Agency', 'Agency Name',\n",
              "       'Complaint Type', 'Descriptor', 'Location Type', 'Incident Zip',\n",
              "       'Incident Address', 'Street Name', 'Cross Street 1', 'Cross Street 2',\n",
              "       'Intersection Street 1', 'Intersection Street 2', 'Address Type',\n",
              "       'City', 'Landmark', 'Facility Type', 'Status', 'Due Date',\n",
              "       'Resolution Description', 'Resolution Action Updated Date',\n",
              "       'Community Board', 'Borough', 'X Coordinate (State Plane)',\n",
              "       'Y Coordinate (State Plane)', 'Park Facility Name', 'Park Borough',\n",
              "       'School Name', 'School Number', 'School Region', 'School Code',\n",
              "       'School Phone Number', 'School Address', 'School City', 'School State',\n",
              "       'School Zip', 'School Not Found', 'School or Citywide Complaint',\n",
              "       'Vehicle Type', 'Taxi Company Borough', 'Taxi Pick Up Location',\n",
              "       'Bridge Highway Name', 'Bridge Highway Direction', 'Road Ramp',\n",
              "       'Bridge Highway Segment', 'Garage Lot Name', 'Ferry Direction',\n",
              "       'Ferry Terminal Name', 'Latitude', 'Longitude', 'Location'],\n",
              "      dtype='object')"
            ]
          },
          "metadata": {},
          "execution_count": 4
        }
      ],
      "source": [
        "data.columns"
      ]
    },
    {
      "cell_type": "code",
      "execution_count": 5,
      "id": "120c8622",
      "metadata": {
        "colab": {
          "base_uri": "https://localhost:8080/"
        },
        "id": "120c8622",
        "outputId": "d061d891-2353-4824-d78e-9f243e7bf46d"
      },
      "outputs": [
        {
          "output_type": "execute_result",
          "data": {
            "text/plain": [
              "Unique Key                           0\n",
              "Created Date                         0\n",
              "Closed Date                          3\n",
              "Agency                               0\n",
              "Agency Name                          0\n",
              "Complaint Type                       0\n",
              "Descriptor                          35\n",
              "Location Type                        0\n",
              "Incident Zip                         7\n",
              "Incident Address                   196\n",
              "Street Name                        196\n",
              "Cross Street 1                     214\n",
              "Cross Street 2                     216\n",
              "Intersection Street 1             1471\n",
              "Intersection Street 2             1473\n",
              "Address Type                         7\n",
              "City                                 7\n",
              "Landmark                          1667\n",
              "Facility Type                        3\n",
              "Status                               0\n",
              "Due Date                             0\n",
              "Resolution Description               0\n",
              "Resolution Action Updated Date       3\n",
              "Community Board                      0\n",
              "Borough                              0\n",
              "X Coordinate (State Plane)           9\n",
              "Y Coordinate (State Plane)           9\n",
              "Park Facility Name                   0\n",
              "Park Borough                         0\n",
              "School Name                          0\n",
              "School Number                        0\n",
              "School Region                        1\n",
              "School Code                          1\n",
              "School Phone Number                  1\n",
              "School Address                       1\n",
              "School City                          1\n",
              "School State                         1\n",
              "School Zip                           1\n",
              "School Not Found                     1\n",
              "School or Citywide Complaint      1667\n",
              "Vehicle Type                      1667\n",
              "Taxi Company Borough              1667\n",
              "Taxi Pick Up Location             1667\n",
              "Bridge Highway Name               1667\n",
              "Bridge Highway Direction          1667\n",
              "Road Ramp                         1667\n",
              "Bridge Highway Segment            1667\n",
              "Garage Lot Name                   1667\n",
              "Ferry Direction                   1667\n",
              "Ferry Terminal Name               1667\n",
              "Latitude                            10\n",
              "Longitude                           10\n",
              "Location                            10\n",
              "dtype: int64"
            ]
          },
          "metadata": {},
          "execution_count": 5
        }
      ],
      "source": [
        "data.isna().sum()"
      ]
    },
    {
      "cell_type": "markdown",
      "id": "f07fa816",
      "metadata": {
        "id": "f07fa816"
      },
      "source": [
        "# Task 2: Read or convert the columns ‘Created Date’ and Closed Date’ to datetime datatype and create a new column ‘Request_Closing_Time’ as the time elapsed between request creation and request closing."
      ]
    },
    {
      "cell_type": "code",
      "execution_count": 6,
      "id": "e8a1581e",
      "metadata": {
        "id": "e8a1581e"
      },
      "outputs": [],
      "source": [
        "data['Created Date']= pd.to_datetime(data['Created Date'], errors='coerce')"
      ]
    },
    {
      "cell_type": "code",
      "execution_count": 7,
      "id": "d0c64f4a",
      "metadata": {
        "id": "d0c64f4a"
      },
      "outputs": [],
      "source": [
        "data['Closed Date']= pd.to_datetime(data['Closed Date'], errors='coerce')"
      ]
    },
    {
      "cell_type": "code",
      "execution_count": 8,
      "id": "d7c2dd7c",
      "metadata": {
        "colab": {
          "base_uri": "https://localhost:8080/",
          "height": 507
        },
        "id": "d7c2dd7c",
        "outputId": "becd7152-e77d-4eb2-a9b9-10c0174cd287"
      },
      "outputs": [
        {
          "output_type": "execute_result",
          "data": {
            "text/plain": [
              "   Unique Key        Created Date         Closed Date Agency  \\\n",
              "0    32310363 2015-12-31 23:59:45 2016-01-01 00:55:00   NYPD   \n",
              "1    32309934 2015-12-31 23:59:44 2016-01-01 01:26:00   NYPD   \n",
              "2    32309159 2015-12-31 23:59:29 2016-01-01 04:51:00   NYPD   \n",
              "3    32305098 2015-12-31 23:57:46 2016-01-01 07:43:00   NYPD   \n",
              "4    32306529 2015-12-31 23:56:58 2016-01-01 03:24:00   NYPD   \n",
              "\n",
              "                       Agency Name           Complaint Type  \\\n",
              "0  New York City Police Department  Noise - Street/Sidewalk   \n",
              "1  New York City Police Department         Blocked Driveway   \n",
              "2  New York City Police Department         Blocked Driveway   \n",
              "3  New York City Police Department          Illegal Parking   \n",
              "4  New York City Police Department          Illegal Parking   \n",
              "\n",
              "                     Descriptor    Location Type  Incident Zip  \\\n",
              "0              Loud Music/Party  Street/Sidewalk       10034.0   \n",
              "1                     No Access  Street/Sidewalk       11105.0   \n",
              "2                     No Access  Street/Sidewalk       10458.0   \n",
              "3  Commercial Overnight Parking  Street/Sidewalk       10461.0   \n",
              "4              Blocked Sidewalk  Street/Sidewalk       11373.0   \n",
              "\n",
              "        Incident Address  ... Bridge Highway Name Bridge Highway Direction  \\\n",
              "0    71 VERMILYEA AVENUE  ...                 NaN                      NaN   \n",
              "1        27-07 23 AVENUE  ...                 NaN                      NaN   \n",
              "2  2897 VALENTINE AVENUE  ...                 NaN                      NaN   \n",
              "3    2940 BAISLEY AVENUE  ...                 NaN                      NaN   \n",
              "4          87-14 57 ROAD  ...                 NaN                      NaN   \n",
              "\n",
              "  Road Ramp Bridge Highway Segment Garage Lot Name Ferry Direction  \\\n",
              "0       NaN                    NaN             NaN             NaN   \n",
              "1       NaN                    NaN             NaN             NaN   \n",
              "2       NaN                    NaN             NaN             NaN   \n",
              "3       NaN                    NaN             NaN             NaN   \n",
              "4       NaN                    NaN             NaN             NaN   \n",
              "\n",
              "  Ferry Terminal Name   Latitude  Longitude  \\\n",
              "0                 NaN  40.865682 -73.923501   \n",
              "1                 NaN  40.775945 -73.915094   \n",
              "2                 NaN  40.870325 -73.888525   \n",
              "3                 NaN  40.835994 -73.828379   \n",
              "4                 NaN  40.733060 -73.874170   \n",
              "\n",
              "                                   Location  \n",
              "0   (40.86568153633767, -73.92350095571744)  \n",
              "1  (40.775945312321085, -73.91509393898605)  \n",
              "2  (40.870324522111424, -73.88852464418646)  \n",
              "3   (40.83599404683083, -73.82837939584206)  \n",
              "4  (40.733059618956815, -73.87416975810375)  \n",
              "\n",
              "[5 rows x 53 columns]"
            ],
            "text/html": [
              "\n",
              "  <div id=\"df-b0d9b8a4-ecd6-44e4-8f5d-b23a13ea4376\">\n",
              "    <div class=\"colab-df-container\">\n",
              "      <div>\n",
              "<style scoped>\n",
              "    .dataframe tbody tr th:only-of-type {\n",
              "        vertical-align: middle;\n",
              "    }\n",
              "\n",
              "    .dataframe tbody tr th {\n",
              "        vertical-align: top;\n",
              "    }\n",
              "\n",
              "    .dataframe thead th {\n",
              "        text-align: right;\n",
              "    }\n",
              "</style>\n",
              "<table border=\"1\" class=\"dataframe\">\n",
              "  <thead>\n",
              "    <tr style=\"text-align: right;\">\n",
              "      <th></th>\n",
              "      <th>Unique Key</th>\n",
              "      <th>Created Date</th>\n",
              "      <th>Closed Date</th>\n",
              "      <th>Agency</th>\n",
              "      <th>Agency Name</th>\n",
              "      <th>Complaint Type</th>\n",
              "      <th>Descriptor</th>\n",
              "      <th>Location Type</th>\n",
              "      <th>Incident Zip</th>\n",
              "      <th>Incident Address</th>\n",
              "      <th>...</th>\n",
              "      <th>Bridge Highway Name</th>\n",
              "      <th>Bridge Highway Direction</th>\n",
              "      <th>Road Ramp</th>\n",
              "      <th>Bridge Highway Segment</th>\n",
              "      <th>Garage Lot Name</th>\n",
              "      <th>Ferry Direction</th>\n",
              "      <th>Ferry Terminal Name</th>\n",
              "      <th>Latitude</th>\n",
              "      <th>Longitude</th>\n",
              "      <th>Location</th>\n",
              "    </tr>\n",
              "  </thead>\n",
              "  <tbody>\n",
              "    <tr>\n",
              "      <th>0</th>\n",
              "      <td>32310363</td>\n",
              "      <td>2015-12-31 23:59:45</td>\n",
              "      <td>2016-01-01 00:55:00</td>\n",
              "      <td>NYPD</td>\n",
              "      <td>New York City Police Department</td>\n",
              "      <td>Noise - Street/Sidewalk</td>\n",
              "      <td>Loud Music/Party</td>\n",
              "      <td>Street/Sidewalk</td>\n",
              "      <td>10034.0</td>\n",
              "      <td>71 VERMILYEA AVENUE</td>\n",
              "      <td>...</td>\n",
              "      <td>NaN</td>\n",
              "      <td>NaN</td>\n",
              "      <td>NaN</td>\n",
              "      <td>NaN</td>\n",
              "      <td>NaN</td>\n",
              "      <td>NaN</td>\n",
              "      <td>NaN</td>\n",
              "      <td>40.865682</td>\n",
              "      <td>-73.923501</td>\n",
              "      <td>(40.86568153633767, -73.92350095571744)</td>\n",
              "    </tr>\n",
              "    <tr>\n",
              "      <th>1</th>\n",
              "      <td>32309934</td>\n",
              "      <td>2015-12-31 23:59:44</td>\n",
              "      <td>2016-01-01 01:26:00</td>\n",
              "      <td>NYPD</td>\n",
              "      <td>New York City Police Department</td>\n",
              "      <td>Blocked Driveway</td>\n",
              "      <td>No Access</td>\n",
              "      <td>Street/Sidewalk</td>\n",
              "      <td>11105.0</td>\n",
              "      <td>27-07 23 AVENUE</td>\n",
              "      <td>...</td>\n",
              "      <td>NaN</td>\n",
              "      <td>NaN</td>\n",
              "      <td>NaN</td>\n",
              "      <td>NaN</td>\n",
              "      <td>NaN</td>\n",
              "      <td>NaN</td>\n",
              "      <td>NaN</td>\n",
              "      <td>40.775945</td>\n",
              "      <td>-73.915094</td>\n",
              "      <td>(40.775945312321085, -73.91509393898605)</td>\n",
              "    </tr>\n",
              "    <tr>\n",
              "      <th>2</th>\n",
              "      <td>32309159</td>\n",
              "      <td>2015-12-31 23:59:29</td>\n",
              "      <td>2016-01-01 04:51:00</td>\n",
              "      <td>NYPD</td>\n",
              "      <td>New York City Police Department</td>\n",
              "      <td>Blocked Driveway</td>\n",
              "      <td>No Access</td>\n",
              "      <td>Street/Sidewalk</td>\n",
              "      <td>10458.0</td>\n",
              "      <td>2897 VALENTINE AVENUE</td>\n",
              "      <td>...</td>\n",
              "      <td>NaN</td>\n",
              "      <td>NaN</td>\n",
              "      <td>NaN</td>\n",
              "      <td>NaN</td>\n",
              "      <td>NaN</td>\n",
              "      <td>NaN</td>\n",
              "      <td>NaN</td>\n",
              "      <td>40.870325</td>\n",
              "      <td>-73.888525</td>\n",
              "      <td>(40.870324522111424, -73.88852464418646)</td>\n",
              "    </tr>\n",
              "    <tr>\n",
              "      <th>3</th>\n",
              "      <td>32305098</td>\n",
              "      <td>2015-12-31 23:57:46</td>\n",
              "      <td>2016-01-01 07:43:00</td>\n",
              "      <td>NYPD</td>\n",
              "      <td>New York City Police Department</td>\n",
              "      <td>Illegal Parking</td>\n",
              "      <td>Commercial Overnight Parking</td>\n",
              "      <td>Street/Sidewalk</td>\n",
              "      <td>10461.0</td>\n",
              "      <td>2940 BAISLEY AVENUE</td>\n",
              "      <td>...</td>\n",
              "      <td>NaN</td>\n",
              "      <td>NaN</td>\n",
              "      <td>NaN</td>\n",
              "      <td>NaN</td>\n",
              "      <td>NaN</td>\n",
              "      <td>NaN</td>\n",
              "      <td>NaN</td>\n",
              "      <td>40.835994</td>\n",
              "      <td>-73.828379</td>\n",
              "      <td>(40.83599404683083, -73.82837939584206)</td>\n",
              "    </tr>\n",
              "    <tr>\n",
              "      <th>4</th>\n",
              "      <td>32306529</td>\n",
              "      <td>2015-12-31 23:56:58</td>\n",
              "      <td>2016-01-01 03:24:00</td>\n",
              "      <td>NYPD</td>\n",
              "      <td>New York City Police Department</td>\n",
              "      <td>Illegal Parking</td>\n",
              "      <td>Blocked Sidewalk</td>\n",
              "      <td>Street/Sidewalk</td>\n",
              "      <td>11373.0</td>\n",
              "      <td>87-14 57 ROAD</td>\n",
              "      <td>...</td>\n",
              "      <td>NaN</td>\n",
              "      <td>NaN</td>\n",
              "      <td>NaN</td>\n",
              "      <td>NaN</td>\n",
              "      <td>NaN</td>\n",
              "      <td>NaN</td>\n",
              "      <td>NaN</td>\n",
              "      <td>40.733060</td>\n",
              "      <td>-73.874170</td>\n",
              "      <td>(40.733059618956815, -73.87416975810375)</td>\n",
              "    </tr>\n",
              "  </tbody>\n",
              "</table>\n",
              "<p>5 rows × 53 columns</p>\n",
              "</div>\n",
              "      <button class=\"colab-df-convert\" onclick=\"convertToInteractive('df-b0d9b8a4-ecd6-44e4-8f5d-b23a13ea4376')\"\n",
              "              title=\"Convert this dataframe to an interactive table.\"\n",
              "              style=\"display:none;\">\n",
              "        \n",
              "  <svg xmlns=\"http://www.w3.org/2000/svg\" height=\"24px\"viewBox=\"0 0 24 24\"\n",
              "       width=\"24px\">\n",
              "    <path d=\"M0 0h24v24H0V0z\" fill=\"none\"/>\n",
              "    <path d=\"M18.56 5.44l.94 2.06.94-2.06 2.06-.94-2.06-.94-.94-2.06-.94 2.06-2.06.94zm-11 1L8.5 8.5l.94-2.06 2.06-.94-2.06-.94L8.5 2.5l-.94 2.06-2.06.94zm10 10l.94 2.06.94-2.06 2.06-.94-2.06-.94-.94-2.06-.94 2.06-2.06.94z\"/><path d=\"M17.41 7.96l-1.37-1.37c-.4-.4-.92-.59-1.43-.59-.52 0-1.04.2-1.43.59L10.3 9.45l-7.72 7.72c-.78.78-.78 2.05 0 2.83L4 21.41c.39.39.9.59 1.41.59.51 0 1.02-.2 1.41-.59l7.78-7.78 2.81-2.81c.8-.78.8-2.07 0-2.86zM5.41 20L4 18.59l7.72-7.72 1.47 1.35L5.41 20z\"/>\n",
              "  </svg>\n",
              "      </button>\n",
              "      \n",
              "  <style>\n",
              "    .colab-df-container {\n",
              "      display:flex;\n",
              "      flex-wrap:wrap;\n",
              "      gap: 12px;\n",
              "    }\n",
              "\n",
              "    .colab-df-convert {\n",
              "      background-color: #E8F0FE;\n",
              "      border: none;\n",
              "      border-radius: 50%;\n",
              "      cursor: pointer;\n",
              "      display: none;\n",
              "      fill: #1967D2;\n",
              "      height: 32px;\n",
              "      padding: 0 0 0 0;\n",
              "      width: 32px;\n",
              "    }\n",
              "\n",
              "    .colab-df-convert:hover {\n",
              "      background-color: #E2EBFA;\n",
              "      box-shadow: 0px 1px 2px rgba(60, 64, 67, 0.3), 0px 1px 3px 1px rgba(60, 64, 67, 0.15);\n",
              "      fill: #174EA6;\n",
              "    }\n",
              "\n",
              "    [theme=dark] .colab-df-convert {\n",
              "      background-color: #3B4455;\n",
              "      fill: #D2E3FC;\n",
              "    }\n",
              "\n",
              "    [theme=dark] .colab-df-convert:hover {\n",
              "      background-color: #434B5C;\n",
              "      box-shadow: 0px 1px 3px 1px rgba(0, 0, 0, 0.15);\n",
              "      filter: drop-shadow(0px 1px 2px rgba(0, 0, 0, 0.3));\n",
              "      fill: #FFFFFF;\n",
              "    }\n",
              "  </style>\n",
              "\n",
              "      <script>\n",
              "        const buttonEl =\n",
              "          document.querySelector('#df-b0d9b8a4-ecd6-44e4-8f5d-b23a13ea4376 button.colab-df-convert');\n",
              "        buttonEl.style.display =\n",
              "          google.colab.kernel.accessAllowed ? 'block' : 'none';\n",
              "\n",
              "        async function convertToInteractive(key) {\n",
              "          const element = document.querySelector('#df-b0d9b8a4-ecd6-44e4-8f5d-b23a13ea4376');\n",
              "          const dataTable =\n",
              "            await google.colab.kernel.invokeFunction('convertToInteractive',\n",
              "                                                     [key], {});\n",
              "          if (!dataTable) return;\n",
              "\n",
              "          const docLinkHtml = 'Like what you see? Visit the ' +\n",
              "            '<a target=\"_blank\" href=https://colab.research.google.com/notebooks/data_table.ipynb>data table notebook</a>'\n",
              "            + ' to learn more about interactive tables.';\n",
              "          element.innerHTML = '';\n",
              "          dataTable['output_type'] = 'display_data';\n",
              "          await google.colab.output.renderOutput(dataTable, element);\n",
              "          const docLink = document.createElement('div');\n",
              "          docLink.innerHTML = docLinkHtml;\n",
              "          element.appendChild(docLink);\n",
              "        }\n",
              "      </script>\n",
              "    </div>\n",
              "  </div>\n",
              "  "
            ]
          },
          "metadata": {},
          "execution_count": 8
        }
      ],
      "source": [
        "data.head(5)"
      ]
    },
    {
      "cell_type": "code",
      "execution_count": 9,
      "id": "426e8281",
      "metadata": {
        "id": "426e8281"
      },
      "outputs": [],
      "source": [
        "data['Request_Closing_Time']= data['Closed Date'].values-data['Created Date'].values"
      ]
    },
    {
      "cell_type": "code",
      "execution_count": 10,
      "id": "002737be",
      "metadata": {
        "colab": {
          "base_uri": "https://localhost:8080/",
          "height": 507
        },
        "id": "002737be",
        "outputId": "1e6a4370-5480-41a4-8efd-1b7d1b9bc306"
      },
      "outputs": [
        {
          "output_type": "execute_result",
          "data": {
            "text/plain": [
              "   Unique Key        Created Date         Closed Date Agency  \\\n",
              "0    32310363 2015-12-31 23:59:45 2016-01-01 00:55:00   NYPD   \n",
              "1    32309934 2015-12-31 23:59:44 2016-01-01 01:26:00   NYPD   \n",
              "2    32309159 2015-12-31 23:59:29 2016-01-01 04:51:00   NYPD   \n",
              "3    32305098 2015-12-31 23:57:46 2016-01-01 07:43:00   NYPD   \n",
              "4    32306529 2015-12-31 23:56:58 2016-01-01 03:24:00   NYPD   \n",
              "\n",
              "                       Agency Name           Complaint Type  \\\n",
              "0  New York City Police Department  Noise - Street/Sidewalk   \n",
              "1  New York City Police Department         Blocked Driveway   \n",
              "2  New York City Police Department         Blocked Driveway   \n",
              "3  New York City Police Department          Illegal Parking   \n",
              "4  New York City Police Department          Illegal Parking   \n",
              "\n",
              "                     Descriptor    Location Type  Incident Zip  \\\n",
              "0              Loud Music/Party  Street/Sidewalk       10034.0   \n",
              "1                     No Access  Street/Sidewalk       11105.0   \n",
              "2                     No Access  Street/Sidewalk       10458.0   \n",
              "3  Commercial Overnight Parking  Street/Sidewalk       10461.0   \n",
              "4              Blocked Sidewalk  Street/Sidewalk       11373.0   \n",
              "\n",
              "        Incident Address  ... Bridge Highway Direction Road Ramp  \\\n",
              "0    71 VERMILYEA AVENUE  ...                      NaN       NaN   \n",
              "1        27-07 23 AVENUE  ...                      NaN       NaN   \n",
              "2  2897 VALENTINE AVENUE  ...                      NaN       NaN   \n",
              "3    2940 BAISLEY AVENUE  ...                      NaN       NaN   \n",
              "4          87-14 57 ROAD  ...                      NaN       NaN   \n",
              "\n",
              "  Bridge Highway Segment Garage Lot Name Ferry Direction Ferry Terminal Name  \\\n",
              "0                    NaN             NaN             NaN                 NaN   \n",
              "1                    NaN             NaN             NaN                 NaN   \n",
              "2                    NaN             NaN             NaN                 NaN   \n",
              "3                    NaN             NaN             NaN                 NaN   \n",
              "4                    NaN             NaN             NaN                 NaN   \n",
              "\n",
              "    Latitude  Longitude                                  Location  \\\n",
              "0  40.865682 -73.923501   (40.86568153633767, -73.92350095571744)   \n",
              "1  40.775945 -73.915094  (40.775945312321085, -73.91509393898605)   \n",
              "2  40.870325 -73.888525  (40.870324522111424, -73.88852464418646)   \n",
              "3  40.835994 -73.828379   (40.83599404683083, -73.82837939584206)   \n",
              "4  40.733060 -73.874170  (40.733059618956815, -73.87416975810375)   \n",
              "\n",
              "  Request_Closing_Time  \n",
              "0      0 days 00:55:15  \n",
              "1      0 days 01:26:16  \n",
              "2      0 days 04:51:31  \n",
              "3      0 days 07:45:14  \n",
              "4      0 days 03:27:02  \n",
              "\n",
              "[5 rows x 54 columns]"
            ],
            "text/html": [
              "\n",
              "  <div id=\"df-06144050-d2e8-4fcb-8922-ad5f86112933\">\n",
              "    <div class=\"colab-df-container\">\n",
              "      <div>\n",
              "<style scoped>\n",
              "    .dataframe tbody tr th:only-of-type {\n",
              "        vertical-align: middle;\n",
              "    }\n",
              "\n",
              "    .dataframe tbody tr th {\n",
              "        vertical-align: top;\n",
              "    }\n",
              "\n",
              "    .dataframe thead th {\n",
              "        text-align: right;\n",
              "    }\n",
              "</style>\n",
              "<table border=\"1\" class=\"dataframe\">\n",
              "  <thead>\n",
              "    <tr style=\"text-align: right;\">\n",
              "      <th></th>\n",
              "      <th>Unique Key</th>\n",
              "      <th>Created Date</th>\n",
              "      <th>Closed Date</th>\n",
              "      <th>Agency</th>\n",
              "      <th>Agency Name</th>\n",
              "      <th>Complaint Type</th>\n",
              "      <th>Descriptor</th>\n",
              "      <th>Location Type</th>\n",
              "      <th>Incident Zip</th>\n",
              "      <th>Incident Address</th>\n",
              "      <th>...</th>\n",
              "      <th>Bridge Highway Direction</th>\n",
              "      <th>Road Ramp</th>\n",
              "      <th>Bridge Highway Segment</th>\n",
              "      <th>Garage Lot Name</th>\n",
              "      <th>Ferry Direction</th>\n",
              "      <th>Ferry Terminal Name</th>\n",
              "      <th>Latitude</th>\n",
              "      <th>Longitude</th>\n",
              "      <th>Location</th>\n",
              "      <th>Request_Closing_Time</th>\n",
              "    </tr>\n",
              "  </thead>\n",
              "  <tbody>\n",
              "    <tr>\n",
              "      <th>0</th>\n",
              "      <td>32310363</td>\n",
              "      <td>2015-12-31 23:59:45</td>\n",
              "      <td>2016-01-01 00:55:00</td>\n",
              "      <td>NYPD</td>\n",
              "      <td>New York City Police Department</td>\n",
              "      <td>Noise - Street/Sidewalk</td>\n",
              "      <td>Loud Music/Party</td>\n",
              "      <td>Street/Sidewalk</td>\n",
              "      <td>10034.0</td>\n",
              "      <td>71 VERMILYEA AVENUE</td>\n",
              "      <td>...</td>\n",
              "      <td>NaN</td>\n",
              "      <td>NaN</td>\n",
              "      <td>NaN</td>\n",
              "      <td>NaN</td>\n",
              "      <td>NaN</td>\n",
              "      <td>NaN</td>\n",
              "      <td>40.865682</td>\n",
              "      <td>-73.923501</td>\n",
              "      <td>(40.86568153633767, -73.92350095571744)</td>\n",
              "      <td>0 days 00:55:15</td>\n",
              "    </tr>\n",
              "    <tr>\n",
              "      <th>1</th>\n",
              "      <td>32309934</td>\n",
              "      <td>2015-12-31 23:59:44</td>\n",
              "      <td>2016-01-01 01:26:00</td>\n",
              "      <td>NYPD</td>\n",
              "      <td>New York City Police Department</td>\n",
              "      <td>Blocked Driveway</td>\n",
              "      <td>No Access</td>\n",
              "      <td>Street/Sidewalk</td>\n",
              "      <td>11105.0</td>\n",
              "      <td>27-07 23 AVENUE</td>\n",
              "      <td>...</td>\n",
              "      <td>NaN</td>\n",
              "      <td>NaN</td>\n",
              "      <td>NaN</td>\n",
              "      <td>NaN</td>\n",
              "      <td>NaN</td>\n",
              "      <td>NaN</td>\n",
              "      <td>40.775945</td>\n",
              "      <td>-73.915094</td>\n",
              "      <td>(40.775945312321085, -73.91509393898605)</td>\n",
              "      <td>0 days 01:26:16</td>\n",
              "    </tr>\n",
              "    <tr>\n",
              "      <th>2</th>\n",
              "      <td>32309159</td>\n",
              "      <td>2015-12-31 23:59:29</td>\n",
              "      <td>2016-01-01 04:51:00</td>\n",
              "      <td>NYPD</td>\n",
              "      <td>New York City Police Department</td>\n",
              "      <td>Blocked Driveway</td>\n",
              "      <td>No Access</td>\n",
              "      <td>Street/Sidewalk</td>\n",
              "      <td>10458.0</td>\n",
              "      <td>2897 VALENTINE AVENUE</td>\n",
              "      <td>...</td>\n",
              "      <td>NaN</td>\n",
              "      <td>NaN</td>\n",
              "      <td>NaN</td>\n",
              "      <td>NaN</td>\n",
              "      <td>NaN</td>\n",
              "      <td>NaN</td>\n",
              "      <td>40.870325</td>\n",
              "      <td>-73.888525</td>\n",
              "      <td>(40.870324522111424, -73.88852464418646)</td>\n",
              "      <td>0 days 04:51:31</td>\n",
              "    </tr>\n",
              "    <tr>\n",
              "      <th>3</th>\n",
              "      <td>32305098</td>\n",
              "      <td>2015-12-31 23:57:46</td>\n",
              "      <td>2016-01-01 07:43:00</td>\n",
              "      <td>NYPD</td>\n",
              "      <td>New York City Police Department</td>\n",
              "      <td>Illegal Parking</td>\n",
              "      <td>Commercial Overnight Parking</td>\n",
              "      <td>Street/Sidewalk</td>\n",
              "      <td>10461.0</td>\n",
              "      <td>2940 BAISLEY AVENUE</td>\n",
              "      <td>...</td>\n",
              "      <td>NaN</td>\n",
              "      <td>NaN</td>\n",
              "      <td>NaN</td>\n",
              "      <td>NaN</td>\n",
              "      <td>NaN</td>\n",
              "      <td>NaN</td>\n",
              "      <td>40.835994</td>\n",
              "      <td>-73.828379</td>\n",
              "      <td>(40.83599404683083, -73.82837939584206)</td>\n",
              "      <td>0 days 07:45:14</td>\n",
              "    </tr>\n",
              "    <tr>\n",
              "      <th>4</th>\n",
              "      <td>32306529</td>\n",
              "      <td>2015-12-31 23:56:58</td>\n",
              "      <td>2016-01-01 03:24:00</td>\n",
              "      <td>NYPD</td>\n",
              "      <td>New York City Police Department</td>\n",
              "      <td>Illegal Parking</td>\n",
              "      <td>Blocked Sidewalk</td>\n",
              "      <td>Street/Sidewalk</td>\n",
              "      <td>11373.0</td>\n",
              "      <td>87-14 57 ROAD</td>\n",
              "      <td>...</td>\n",
              "      <td>NaN</td>\n",
              "      <td>NaN</td>\n",
              "      <td>NaN</td>\n",
              "      <td>NaN</td>\n",
              "      <td>NaN</td>\n",
              "      <td>NaN</td>\n",
              "      <td>40.733060</td>\n",
              "      <td>-73.874170</td>\n",
              "      <td>(40.733059618956815, -73.87416975810375)</td>\n",
              "      <td>0 days 03:27:02</td>\n",
              "    </tr>\n",
              "  </tbody>\n",
              "</table>\n",
              "<p>5 rows × 54 columns</p>\n",
              "</div>\n",
              "      <button class=\"colab-df-convert\" onclick=\"convertToInteractive('df-06144050-d2e8-4fcb-8922-ad5f86112933')\"\n",
              "              title=\"Convert this dataframe to an interactive table.\"\n",
              "              style=\"display:none;\">\n",
              "        \n",
              "  <svg xmlns=\"http://www.w3.org/2000/svg\" height=\"24px\"viewBox=\"0 0 24 24\"\n",
              "       width=\"24px\">\n",
              "    <path d=\"M0 0h24v24H0V0z\" fill=\"none\"/>\n",
              "    <path d=\"M18.56 5.44l.94 2.06.94-2.06 2.06-.94-2.06-.94-.94-2.06-.94 2.06-2.06.94zm-11 1L8.5 8.5l.94-2.06 2.06-.94-2.06-.94L8.5 2.5l-.94 2.06-2.06.94zm10 10l.94 2.06.94-2.06 2.06-.94-2.06-.94-.94-2.06-.94 2.06-2.06.94z\"/><path d=\"M17.41 7.96l-1.37-1.37c-.4-.4-.92-.59-1.43-.59-.52 0-1.04.2-1.43.59L10.3 9.45l-7.72 7.72c-.78.78-.78 2.05 0 2.83L4 21.41c.39.39.9.59 1.41.59.51 0 1.02-.2 1.41-.59l7.78-7.78 2.81-2.81c.8-.78.8-2.07 0-2.86zM5.41 20L4 18.59l7.72-7.72 1.47 1.35L5.41 20z\"/>\n",
              "  </svg>\n",
              "      </button>\n",
              "      \n",
              "  <style>\n",
              "    .colab-df-container {\n",
              "      display:flex;\n",
              "      flex-wrap:wrap;\n",
              "      gap: 12px;\n",
              "    }\n",
              "\n",
              "    .colab-df-convert {\n",
              "      background-color: #E8F0FE;\n",
              "      border: none;\n",
              "      border-radius: 50%;\n",
              "      cursor: pointer;\n",
              "      display: none;\n",
              "      fill: #1967D2;\n",
              "      height: 32px;\n",
              "      padding: 0 0 0 0;\n",
              "      width: 32px;\n",
              "    }\n",
              "\n",
              "    .colab-df-convert:hover {\n",
              "      background-color: #E2EBFA;\n",
              "      box-shadow: 0px 1px 2px rgba(60, 64, 67, 0.3), 0px 1px 3px 1px rgba(60, 64, 67, 0.15);\n",
              "      fill: #174EA6;\n",
              "    }\n",
              "\n",
              "    [theme=dark] .colab-df-convert {\n",
              "      background-color: #3B4455;\n",
              "      fill: #D2E3FC;\n",
              "    }\n",
              "\n",
              "    [theme=dark] .colab-df-convert:hover {\n",
              "      background-color: #434B5C;\n",
              "      box-shadow: 0px 1px 3px 1px rgba(0, 0, 0, 0.15);\n",
              "      filter: drop-shadow(0px 1px 2px rgba(0, 0, 0, 0.3));\n",
              "      fill: #FFFFFF;\n",
              "    }\n",
              "  </style>\n",
              "\n",
              "      <script>\n",
              "        const buttonEl =\n",
              "          document.querySelector('#df-06144050-d2e8-4fcb-8922-ad5f86112933 button.colab-df-convert');\n",
              "        buttonEl.style.display =\n",
              "          google.colab.kernel.accessAllowed ? 'block' : 'none';\n",
              "\n",
              "        async function convertToInteractive(key) {\n",
              "          const element = document.querySelector('#df-06144050-d2e8-4fcb-8922-ad5f86112933');\n",
              "          const dataTable =\n",
              "            await google.colab.kernel.invokeFunction('convertToInteractive',\n",
              "                                                     [key], {});\n",
              "          if (!dataTable) return;\n",
              "\n",
              "          const docLinkHtml = 'Like what you see? Visit the ' +\n",
              "            '<a target=\"_blank\" href=https://colab.research.google.com/notebooks/data_table.ipynb>data table notebook</a>'\n",
              "            + ' to learn more about interactive tables.';\n",
              "          element.innerHTML = '';\n",
              "          dataTable['output_type'] = 'display_data';\n",
              "          await google.colab.output.renderOutput(dataTable, element);\n",
              "          const docLink = document.createElement('div');\n",
              "          docLink.innerHTML = docLinkHtml;\n",
              "          element.appendChild(docLink);\n",
              "        }\n",
              "      </script>\n",
              "    </div>\n",
              "  </div>\n",
              "  "
            ]
          },
          "metadata": {},
          "execution_count": 10
        }
      ],
      "source": [
        "data.head(5)"
      ]
    },
    {
      "cell_type": "code",
      "execution_count": 11,
      "id": "02a1a27b",
      "metadata": {
        "id": "02a1a27b"
      },
      "outputs": [],
      "source": [
        "data['Request_Closing_Time_mins'] = data['Request_Closing_Time']/np.timedelta64(1,'m')"
      ]
    },
    {
      "cell_type": "code",
      "execution_count": 12,
      "id": "b863cdfc",
      "metadata": {
        "colab": {
          "base_uri": "https://localhost:8080/"
        },
        "id": "b863cdfc",
        "outputId": "6a97ccaa-bbcc-4ef2-f532-634d4cc6f564"
      },
      "outputs": [
        {
          "output_type": "execute_result",
          "data": {
            "text/plain": [
              "Unique Key                           0\n",
              "Created Date                         0\n",
              "Closed Date                          3\n",
              "Agency                               0\n",
              "Agency Name                          0\n",
              "Complaint Type                       0\n",
              "Descriptor                          35\n",
              "Location Type                        0\n",
              "Incident Zip                         7\n",
              "Incident Address                   196\n",
              "Street Name                        196\n",
              "Cross Street 1                     214\n",
              "Cross Street 2                     216\n",
              "Intersection Street 1             1471\n",
              "Intersection Street 2             1473\n",
              "Address Type                         7\n",
              "City                                 7\n",
              "Landmark                          1667\n",
              "Facility Type                        3\n",
              "Status                               0\n",
              "Due Date                             0\n",
              "Resolution Description               0\n",
              "Resolution Action Updated Date       3\n",
              "Community Board                      0\n",
              "Borough                              0\n",
              "X Coordinate (State Plane)           9\n",
              "Y Coordinate (State Plane)           9\n",
              "Park Facility Name                   0\n",
              "Park Borough                         0\n",
              "School Name                          0\n",
              "School Number                        0\n",
              "School Region                        1\n",
              "School Code                          1\n",
              "School Phone Number                  1\n",
              "School Address                       1\n",
              "School City                          1\n",
              "School State                         1\n",
              "School Zip                           1\n",
              "School Not Found                     1\n",
              "School or Citywide Complaint      1667\n",
              "Vehicle Type                      1667\n",
              "Taxi Company Borough              1667\n",
              "Taxi Pick Up Location             1667\n",
              "Bridge Highway Name               1667\n",
              "Bridge Highway Direction          1667\n",
              "Road Ramp                         1667\n",
              "Bridge Highway Segment            1667\n",
              "Garage Lot Name                   1667\n",
              "Ferry Direction                   1667\n",
              "Ferry Terminal Name               1667\n",
              "Latitude                            10\n",
              "Longitude                           10\n",
              "Location                            10\n",
              "Request_Closing_Time                 3\n",
              "Request_Closing_Time_mins            3\n",
              "dtype: int64"
            ]
          },
          "metadata": {},
          "execution_count": 12
        }
      ],
      "source": [
        "data.isna().sum()"
      ]
    },
    {
      "cell_type": "code",
      "execution_count": 13,
      "id": "8937f567",
      "metadata": {
        "colab": {
          "base_uri": "https://localhost:8080/"
        },
        "id": "8937f567",
        "outputId": "7ff6eb87-5a1e-4aa9-d648-b0b18813f58a"
      },
      "outputs": [
        {
          "output_type": "stream",
          "name": "stdout",
          "text": [
            "<class 'pandas.core.frame.DataFrame'>\n",
            "RangeIndex: 1667 entries, 0 to 1666\n",
            "Data columns (total 55 columns):\n",
            " #   Column                          Non-Null Count  Dtype          \n",
            "---  ------                          --------------  -----          \n",
            " 0   Unique Key                      1667 non-null   int64          \n",
            " 1   Created Date                    1667 non-null   datetime64[ns] \n",
            " 2   Closed Date                     1664 non-null   datetime64[ns] \n",
            " 3   Agency                          1667 non-null   object         \n",
            " 4   Agency Name                     1667 non-null   object         \n",
            " 5   Complaint Type                  1667 non-null   object         \n",
            " 6   Descriptor                      1632 non-null   object         \n",
            " 7   Location Type                   1667 non-null   object         \n",
            " 8   Incident Zip                    1660 non-null   float64        \n",
            " 9   Incident Address                1471 non-null   object         \n",
            " 10  Street Name                     1471 non-null   object         \n",
            " 11  Cross Street 1                  1453 non-null   object         \n",
            " 12  Cross Street 2                  1451 non-null   object         \n",
            " 13  Intersection Street 1           196 non-null    object         \n",
            " 14  Intersection Street 2           194 non-null    object         \n",
            " 15  Address Type                    1660 non-null   object         \n",
            " 16  City                            1660 non-null   object         \n",
            " 17  Landmark                        0 non-null      float64        \n",
            " 18  Facility Type                   1664 non-null   object         \n",
            " 19  Status                          1667 non-null   object         \n",
            " 20  Due Date                        1667 non-null   object         \n",
            " 21  Resolution Description          1667 non-null   object         \n",
            " 22  Resolution Action Updated Date  1664 non-null   object         \n",
            " 23  Community Board                 1667 non-null   object         \n",
            " 24  Borough                         1667 non-null   object         \n",
            " 25  X Coordinate (State Plane)      1658 non-null   float64        \n",
            " 26  Y Coordinate (State Plane)      1658 non-null   float64        \n",
            " 27  Park Facility Name              1667 non-null   object         \n",
            " 28  Park Borough                    1667 non-null   object         \n",
            " 29  School Name                     1667 non-null   object         \n",
            " 30  School Number                   1667 non-null   object         \n",
            " 31  School Region                   1666 non-null   object         \n",
            " 32  School Code                     1666 non-null   object         \n",
            " 33  School Phone Number             1666 non-null   object         \n",
            " 34  School Address                  1666 non-null   object         \n",
            " 35  School City                     1666 non-null   object         \n",
            " 36  School State                    1666 non-null   object         \n",
            " 37  School Zip                      1666 non-null   object         \n",
            " 38  School Not Found                1666 non-null   object         \n",
            " 39  School or Citywide Complaint    0 non-null      float64        \n",
            " 40  Vehicle Type                    0 non-null      float64        \n",
            " 41  Taxi Company Borough            0 non-null      float64        \n",
            " 42  Taxi Pick Up Location           0 non-null      float64        \n",
            " 43  Bridge Highway Name             0 non-null      float64        \n",
            " 44  Bridge Highway Direction        0 non-null      float64        \n",
            " 45  Road Ramp                       0 non-null      float64        \n",
            " 46  Bridge Highway Segment          0 non-null      float64        \n",
            " 47  Garage Lot Name                 0 non-null      float64        \n",
            " 48  Ferry Direction                 0 non-null      float64        \n",
            " 49  Ferry Terminal Name             0 non-null      float64        \n",
            " 50  Latitude                        1657 non-null   float64        \n",
            " 51  Longitude                       1657 non-null   float64        \n",
            " 52  Location                        1657 non-null   object         \n",
            " 53  Request_Closing_Time            1664 non-null   timedelta64[ns]\n",
            " 54  Request_Closing_Time_mins       1664 non-null   float64        \n",
            "dtypes: datetime64[ns](2), float64(18), int64(1), object(33), timedelta64[ns](1)\n",
            "memory usage: 716.4+ KB\n"
          ]
        }
      ],
      "source": [
        "data.info()"
      ]
    },
    {
      "cell_type": "markdown",
      "id": "f86b75e7",
      "metadata": {
        "id": "f86b75e7"
      },
      "source": [
        "# Provide major insights/patterns that you can offer in a visual format (graphs or tables); at least 4 major conclusions that you can come up with after generic data mining."
      ]
    },
    {
      "cell_type": "code",
      "execution_count": 14,
      "id": "1dcd4a49",
      "metadata": {
        "colab": {
          "base_uri": "https://localhost:8080/"
        },
        "id": "1dcd4a49",
        "outputId": "52bacb56-19af-478d-9a10-4404c3205ebc"
      },
      "outputs": [
        {
          "output_type": "execute_result",
          "data": {
            "text/plain": [
              "array(['Noise - Street/Sidewalk', 'Blocked Driveway', 'Illegal Parking',\n",
              "       'Derelict Vehicle', 'Noise - Commercial',\n",
              "       'Noise - House of Worship', 'Posting Advertisement',\n",
              "       'Noise - Vehicle', 'Animal Abuse', 'Vending', 'Traffic',\n",
              "       'Drinking', 'Bike/Roller/Skate Chronic', 'Panhandling',\n",
              "       'Noise - Park', 'Homeless Encampment', 'Urinating in Public'],\n",
              "      dtype=object)"
            ]
          },
          "metadata": {},
          "execution_count": 14
        }
      ],
      "source": [
        "data['Complaint Type'].unique()"
      ]
    },
    {
      "cell_type": "markdown",
      "id": "7fd9930c",
      "metadata": {
        "id": "7fd9930c"
      },
      "source": [
        "# Conclusion 1: City with maximum number of complaints was found to be Brooklyn with different types of complaints"
      ]
    },
    {
      "cell_type": "code",
      "execution_count": 15,
      "id": "f4fa7d4e",
      "metadata": {
        "colab": {
          "base_uri": "https://localhost:8080/",
          "height": 721
        },
        "id": "f4fa7d4e",
        "outputId": "f76f53c8-9fb0-4987-caa8-53e5f22bddda"
      },
      "outputs": [
        {
          "output_type": "execute_result",
          "data": {
            "text/plain": [
              "Text(0.5, 1.0, 'Number of complaints vs. City')"
            ]
          },
          "metadata": {},
          "execution_count": 15
        },
        {
          "output_type": "display_data",
          "data": {
            "text/plain": [
              "<Figure size 1080x720 with 1 Axes>"
            ],
            "image/png": "[encoded data removed]"
          },
          "metadata": {
            "needs_background": "light"
          }
        }
      ],
      "source": [
        "df1=data.groupby(['City','Complaint Type']).size().unstack().fillna(0)\n",
        "df1.plot.bar(figsize=(15,10), stacked=True)\n",
        "plt.ylabel('Number of Complaints')\n",
        "plt.title('Number of complaints vs. City')"
      ]
    },
    {
      "cell_type": "markdown",
      "id": "4e1cf2d6",
      "metadata": {
        "id": "4e1cf2d6"
      },
      "source": [
        "# Conclusion 2: Since maximum number of complaints were filed in Brooklyn, Blocked Driveway was found to be the most frequent complaint lodged in the city of Brooklyn."
      ]
    },
    {
      "cell_type": "code",
      "execution_count": 16,
      "id": "3545a6c7",
      "metadata": {
        "colab": {
          "base_uri": "https://localhost:8080/",
          "height": 599
        },
        "id": "3545a6c7",
        "outputId": "8e70f6ac-56db-4a89-809c-9e3b8ef9623b"
      },
      "outputs": [
        {
          "output_type": "execute_result",
          "data": {
            "text/plain": [
              "[Text(0, 0, 'Illegal Parking'),\n",
              " Text(1, 0, 'Blocked Driveway'),\n",
              " Text(2, 0, 'Noise - Commercial'),\n",
              " Text(3, 0, 'Noise - Street/Sidewalk'),\n",
              " Text(4, 0, 'Noise - Vehicle'),\n",
              " Text(5, 0, 'Traffic'),\n",
              " Text(6, 0, 'Derelict Vehicle'),\n",
              " Text(7, 0, 'Animal Abuse'),\n",
              " Text(8, 0, 'Drinking'),\n",
              " Text(9, 0, 'Vending'),\n",
              " Text(10, 0, 'Noise - Park'),\n",
              " Text(11, 0, 'Homeless Encampment')]"
            ]
          },
          "metadata": {},
          "execution_count": 16
        },
        {
          "output_type": "display_data",
          "data": {
            "text/plain": [
              "<Figure size 432x288 with 1 Axes>"
            ],
            "image/png": "[encoded data removed]"
          },
          "metadata": {
            "needs_background": "light"
          }
        }
      ],
      "source": [
        "data.loc[(data['City']=='BROOKLYN'),:]['Complaint Type'].value_counts()\n",
        "plot_3= sns.countplot(x=data.loc[data.City=='BROOKLYN']['Complaint Type'], palette='YlOrRd_r')\n",
        "plot_3.set_xticklabels(plot_3.get_xticklabels(), rotation=90)"
      ]
    },
    {
      "cell_type": "markdown",
      "id": "dec0f6ea",
      "metadata": {
        "id": "dec0f6ea"
      },
      "source": [
        "# Conclusion 3 - Most of the complained are in closed status"
      ]
    },
    {
      "cell_type": "code",
      "execution_count": 17,
      "id": "b2a21a46",
      "metadata": {
        "colab": {
          "base_uri": "https://localhost:8080/"
        },
        "id": "b2a21a46",
        "outputId": "c83758fc-f338-4177-fbe8-378592be4103"
      },
      "outputs": [
        {
          "output_type": "execute_result",
          "data": {
            "text/plain": [
              "array(['Closed', 'Open'], dtype=object)"
            ]
          },
          "metadata": {},
          "execution_count": 17
        }
      ],
      "source": [
        "data.Status.unique()"
      ]
    },
    {
      "cell_type": "code",
      "execution_count": 18,
      "id": "2009cd2e",
      "metadata": {
        "colab": {
          "base_uri": "https://localhost:8080/",
          "height": 452
        },
        "id": "2009cd2e",
        "outputId": "61b213bd-31ba-4469-d753-1b551f2d7d9d"
      },
      "outputs": [
        {
          "output_type": "display_data",
          "data": {
            "text/plain": [
              "<Figure size 504x504 with 1 Axes>"
            ],
            "image/png": "[encoded data removed]"
          },
          "metadata": {
            "needs_background": "light"
          }
        }
      ],
      "source": [
        "data['Status'].value_counts().plot(kind='bar',alpha=0.6,figsize=(7,7))\n",
        "plt.show()"
      ]
    },
    {
      "cell_type": "markdown",
      "id": "1afc7b60",
      "metadata": {
        "id": "1afc7b60"
      },
      "source": [
        "# Conclusion 4:Top 10 Complaint types and their count"
      ]
    },
    {
      "cell_type": "code",
      "execution_count": 19,
      "id": "13943e11",
      "metadata": {
        "colab": {
          "base_uri": "https://localhost:8080/"
        },
        "id": "13943e11",
        "outputId": "ed7fabfa-e4c4-40a2-ef11-8add26945c2f"
      },
      "outputs": [
        {
          "output_type": "execute_result",
          "data": {
            "text/plain": [
              "Index(['Blocked Driveway', 'Illegal Parking', 'Noise - Commercial',\n",
              "       'Derelict Vehicle', 'Noise - Street/Sidewalk'],\n",
              "      dtype='object')"
            ]
          },
          "metadata": {},
          "execution_count": 19
        }
      ],
      "source": [
        "df4= data['Complaint Type'].value_counts().head(10)\n",
        "df4.nlargest().index"
      ]
    },
    {
      "cell_type": "code",
      "execution_count": 20,
      "id": "c5bc0aab",
      "metadata": {
        "colab": {
          "base_uri": "https://localhost:8080/"
        },
        "id": "c5bc0aab",
        "outputId": "f8e12d0f-b408-4010-db1f-20a4a4ca2781"
      },
      "outputs": [
        {
          "output_type": "execute_result",
          "data": {
            "text/plain": [
              "Blocked Driveway           573\n",
              "Illegal Parking            459\n",
              "Noise - Commercial         188\n",
              "Derelict Vehicle           114\n",
              "Noise - Street/Sidewalk    104\n",
              "Vending                     61\n",
              "Animal Abuse                45\n",
              "Noise - Vehicle             41\n",
              "Homeless Encampment         30\n",
              "Traffic                     24\n",
              "Name: Complaint Type, dtype: int64"
            ]
          },
          "metadata": {},
          "execution_count": 20
        }
      ],
      "source": [
        "df4"
      ]
    },
    {
      "cell_type": "code",
      "execution_count": 21,
      "id": "dcd594ab",
      "metadata": {
        "colab": {
          "base_uri": "https://localhost:8080/",
          "height": 876
        },
        "id": "dcd594ab",
        "outputId": "13038dec-ca0d-4b00-8d65-3f63a1545d3e"
      },
      "outputs": [
        {
          "output_type": "execute_result",
          "data": {
            "text/plain": [
              "[Text(0, 0, 'Blocked Driveway'),\n",
              " Text(1, 0, 'Illegal Parking'),\n",
              " Text(2, 0, 'Noise - Commercial'),\n",
              " Text(3, 0, 'Derelict Vehicle'),\n",
              " Text(4, 0, 'Noise - Street/Sidewalk'),\n",
              " Text(5, 0, 'Vending'),\n",
              " Text(6, 0, 'Animal Abuse'),\n",
              " Text(7, 0, 'Noise - Vehicle'),\n",
              " Text(8, 0, 'Homeless Encampment'),\n",
              " Text(9, 0, 'Traffic')]"
            ]
          },
          "metadata": {},
          "execution_count": 21
        },
        {
          "output_type": "display_data",
          "data": {
            "text/plain": [
              "<Figure size 720x720 with 1 Axes>"
            ],
            "image/png": "[encoded data removed]"
          },
          "metadata": {
            "needs_background": "light"
          }
        }
      ],
      "source": [
        "plt.figure(figsize=(10,10))\n",
        "plot_5= sns.barplot(x=df4.nlargest(10).index, y= df4.nlargest(10).values)\n",
        "plot_5.set_xticklabels(plot_5.get_xticklabels(), rotation=90)"
      ]
    },
    {
      "cell_type": "markdown",
      "id": "7eb714a1",
      "metadata": {
        "id": "7eb714a1"
      },
      "source": [
        "# Order the complaint types based on the average ‘Request_Closing_Time’, grouping them for different locations."
      ]
    },
    {
      "cell_type": "code",
      "execution_count": 22,
      "id": "1e05cc6e",
      "metadata": {
        "colab": {
          "base_uri": "https://localhost:8080/",
          "height": 353
        },
        "id": "1e05cc6e",
        "outputId": "395c8375-4bde-443f-a0a8-ad0a6396e37f"
      },
      "outputs": [
        {
          "output_type": "execute_result",
          "data": {
            "text/plain": [
              "Complaint Type  Animal Abuse  Bike/Roller/Skate Chronic  Blocked Driveway  \\\n",
              "City                                                                        \n",
              "ASTORIA             0.000000                        0.0        289.912667   \n",
              "BAYSIDE             0.000000                        0.0        103.816667   \n",
              "BELLEROSE           0.000000                        0.0          0.000000   \n",
              "BRONX             144.903333                        0.0        390.108621   \n",
              "BROOKLYN          164.287500                        0.0        255.113089   \n",
              "\n",
              "Complaint Type  Derelict Vehicle    Drinking  Homeless Encampment  \\\n",
              "City                                                                \n",
              "ASTORIA                 0.000000    0.000000             0.000000   \n",
              "BAYSIDE               139.038889    0.000000             0.000000   \n",
              "BELLEROSE             237.666667    0.000000             0.000000   \n",
              "BRONX                 397.267949    0.000000             0.000000   \n",
              "BROOKLYN              272.829457  105.994444           250.621429   \n",
              "\n",
              "Complaint Type  Illegal Parking  Noise - Commercial  Noise - House of Worship  \\\n",
              "City                                                                            \n",
              "ASTORIA              289.876190          109.561111                       0.0   \n",
              "BAYSIDE              191.822222            0.000000                       0.0   \n",
              "BELLEROSE              0.000000            0.000000                       0.0   \n",
              "BRONX                280.452121          231.775758                       0.0   \n",
              "BROOKLYN             271.426205          141.072304                       0.0   \n",
              "\n",
              "Complaint Type  Noise - Park  Noise - Street/Sidewalk  Noise - Vehicle  \\\n",
              "City                                                                     \n",
              "ASTORIA                  0.0                 0.000000       188.650000   \n",
              "BAYSIDE                  0.0                 0.000000         0.000000   \n",
              "BELLEROSE                0.0                 0.000000         0.000000   \n",
              "BRONX                    0.0               202.711765       115.233333   \n",
              "BROOKLYN                36.5               141.325806       234.438889   \n",
              "\n",
              "Complaint Type  Panhandling  Posting Advertisement  Traffic  \\\n",
              "City                                                          \n",
              "ASTORIA                 0.0                    0.0     0.00   \n",
              "BAYSIDE                 0.0                    0.0     0.00   \n",
              "BELLEROSE               0.0                    0.0     0.00   \n",
              "BRONX                   0.0                    0.0     0.00   \n",
              "BROOKLYN                0.0                    0.0   132.97   \n",
              "\n",
              "Complaint Type  Urinating in Public     Vending  \n",
              "City                                             \n",
              "ASTORIA                         0.0    0.000000  \n",
              "BAYSIDE                         0.0    0.000000  \n",
              "BELLEROSE                       0.0    0.000000  \n",
              "BRONX                           0.0  117.616667  \n",
              "BROOKLYN                        0.0  199.919444  "
            ],
            "text/html": [
              "\n",
              "  <div id=\"df-2bbb11e1-850a-415b-a43c-da2f936699a0\">\n",
              "    <div class=\"colab-df-container\">\n",
              "      <div>\n",
              "<style scoped>\n",
              "    .dataframe tbody tr th:only-of-type {\n",
              "        vertical-align: middle;\n",
              "    }\n",
              "\n",
              "    .dataframe tbody tr th {\n",
              "        vertical-align: top;\n",
              "    }\n",
              "\n",
              "    .dataframe thead th {\n",
              "        text-align: right;\n",
              "    }\n",
              "</style>\n",
              "<table border=\"1\" class=\"dataframe\">\n",
              "  <thead>\n",
              "    <tr style=\"text-align: right;\">\n",
              "      <th>Complaint Type</th>\n",
              "      <th>Animal Abuse</th>\n",
              "      <th>Bike/Roller/Skate Chronic</th>\n",
              "      <th>Blocked Driveway</th>\n",
              "      <th>Derelict Vehicle</th>\n",
              "      <th>Drinking</th>\n",
              "      <th>Homeless Encampment</th>\n",
              "      <th>Illegal Parking</th>\n",
              "      <th>Noise - Commercial</th>\n",
              "      <th>Noise - House of Worship</th>\n",
              "      <th>Noise - Park</th>\n",
              "      <th>Noise - Street/Sidewalk</th>\n",
              "      <th>Noise - Vehicle</th>\n",
              "      <th>Panhandling</th>\n",
              "      <th>Posting Advertisement</th>\n",
              "      <th>Traffic</th>\n",
              "      <th>Urinating in Public</th>\n",
              "      <th>Vending</th>\n",
              "    </tr>\n",
              "    <tr>\n",
              "      <th>City</th>\n",
              "      <th></th>\n",
              "      <th></th>\n",
              "      <th></th>\n",
              "      <th></th>\n",
              "      <th></th>\n",
              "      <th></th>\n",
              "      <th></th>\n",
              "      <th></th>\n",
              "      <th></th>\n",
              "      <th></th>\n",
              "      <th></th>\n",
              "      <th></th>\n",
              "      <th></th>\n",
              "      <th></th>\n",
              "      <th></th>\n",
              "      <th></th>\n",
              "      <th></th>\n",
              "    </tr>\n",
              "  </thead>\n",
              "  <tbody>\n",
              "    <tr>\n",
              "      <th>ASTORIA</th>\n",
              "      <td>0.000000</td>\n",
              "      <td>0.0</td>\n",
              "      <td>289.912667</td>\n",
              "      <td>0.000000</td>\n",
              "      <td>0.000000</td>\n",
              "      <td>0.000000</td>\n",
              "      <td>289.876190</td>\n",
              "      <td>109.561111</td>\n",
              "      <td>0.0</td>\n",
              "      <td>0.0</td>\n",
              "      <td>0.000000</td>\n",
              "      <td>188.650000</td>\n",
              "      <td>0.0</td>\n",
              "      <td>0.0</td>\n",
              "      <td>0.00</td>\n",
              "      <td>0.0</td>\n",
              "      <td>0.000000</td>\n",
              "    </tr>\n",
              "    <tr>\n",
              "      <th>BAYSIDE</th>\n",
              "      <td>0.000000</td>\n",
              "      <td>0.0</td>\n",
              "      <td>103.816667</td>\n",
              "      <td>139.038889</td>\n",
              "      <td>0.000000</td>\n",
              "      <td>0.000000</td>\n",
              "      <td>191.822222</td>\n",
              "      <td>0.000000</td>\n",
              "      <td>0.0</td>\n",
              "      <td>0.0</td>\n",
              "      <td>0.000000</td>\n",
              "      <td>0.000000</td>\n",
              "      <td>0.0</td>\n",
              "      <td>0.0</td>\n",
              "      <td>0.00</td>\n",
              "      <td>0.0</td>\n",
              "      <td>0.000000</td>\n",
              "    </tr>\n",
              "    <tr>\n",
              "      <th>BELLEROSE</th>\n",
              "      <td>0.000000</td>\n",
              "      <td>0.0</td>\n",
              "      <td>0.000000</td>\n",
              "      <td>237.666667</td>\n",
              "      <td>0.000000</td>\n",
              "      <td>0.000000</td>\n",
              "      <td>0.000000</td>\n",
              "      <td>0.000000</td>\n",
              "      <td>0.0</td>\n",
              "      <td>0.0</td>\n",
              "      <td>0.000000</td>\n",
              "      <td>0.000000</td>\n",
              "      <td>0.0</td>\n",
              "      <td>0.0</td>\n",
              "      <td>0.00</td>\n",
              "      <td>0.0</td>\n",
              "      <td>0.000000</td>\n",
              "    </tr>\n",
              "    <tr>\n",
              "      <th>BRONX</th>\n",
              "      <td>144.903333</td>\n",
              "      <td>0.0</td>\n",
              "      <td>390.108621</td>\n",
              "      <td>397.267949</td>\n",
              "      <td>0.000000</td>\n",
              "      <td>0.000000</td>\n",
              "      <td>280.452121</td>\n",
              "      <td>231.775758</td>\n",
              "      <td>0.0</td>\n",
              "      <td>0.0</td>\n",
              "      <td>202.711765</td>\n",
              "      <td>115.233333</td>\n",
              "      <td>0.0</td>\n",
              "      <td>0.0</td>\n",
              "      <td>0.00</td>\n",
              "      <td>0.0</td>\n",
              "      <td>117.616667</td>\n",
              "    </tr>\n",
              "    <tr>\n",
              "      <th>BROOKLYN</th>\n",
              "      <td>164.287500</td>\n",
              "      <td>0.0</td>\n",
              "      <td>255.113089</td>\n",
              "      <td>272.829457</td>\n",
              "      <td>105.994444</td>\n",
              "      <td>250.621429</td>\n",
              "      <td>271.426205</td>\n",
              "      <td>141.072304</td>\n",
              "      <td>0.0</td>\n",
              "      <td>36.5</td>\n",
              "      <td>141.325806</td>\n",
              "      <td>234.438889</td>\n",
              "      <td>0.0</td>\n",
              "      <td>0.0</td>\n",
              "      <td>132.97</td>\n",
              "      <td>0.0</td>\n",
              "      <td>199.919444</td>\n",
              "    </tr>\n",
              "  </tbody>\n",
              "</table>\n",
              "</div>\n",
              "      <button class=\"colab-df-convert\" onclick=\"convertToInteractive('df-2bbb11e1-850a-415b-a43c-da2f936699a0')\"\n",
              "              title=\"Convert this dataframe to an interactive table.\"\n",
              "              style=\"display:none;\">\n",
              "        \n",
              "  <svg xmlns=\"http://www.w3.org/2000/svg\" height=\"24px\"viewBox=\"0 0 24 24\"\n",
              "       width=\"24px\">\n",
              "    <path d=\"M0 0h24v24H0V0z\" fill=\"none\"/>\n",
              "    <path d=\"M18.56 5.44l.94 2.06.94-2.06 2.06-.94-2.06-.94-.94-2.06-.94 2.06-2.06.94zm-11 1L8.5 8.5l.94-2.06 2.06-.94-2.06-.94L8.5 2.5l-.94 2.06-2.06.94zm10 10l.94 2.06.94-2.06 2.06-.94-2.06-.94-.94-2.06-.94 2.06-2.06.94z\"/><path d=\"M17.41 7.96l-1.37-1.37c-.4-.4-.92-.59-1.43-.59-.52 0-1.04.2-1.43.59L10.3 9.45l-7.72 7.72c-.78.78-.78 2.05 0 2.83L4 21.41c.39.39.9.59 1.41.59.51 0 1.02-.2 1.41-.59l7.78-7.78 2.81-2.81c.8-.78.8-2.07 0-2.86zM5.41 20L4 18.59l7.72-7.72 1.47 1.35L5.41 20z\"/>\n",
              "  </svg>\n",
              "      </button>\n",
              "      \n",
              "  <style>\n",
              "    .colab-df-container {\n",
              "      display:flex;\n",
              "      flex-wrap:wrap;\n",
              "      gap: 12px;\n",
              "    }\n",
              "\n",
              "    .colab-df-convert {\n",
              "      background-color: #E8F0FE;\n",
              "      border: none;\n",
              "      border-radius: 50%;\n",
              "      cursor: pointer;\n",
              "      display: none;\n",
              "      fill: #1967D2;\n",
              "      height: 32px;\n",
              "      padding: 0 0 0 0;\n",
              "      width: 32px;\n",
              "    }\n",
              "\n",
              "    .colab-df-convert:hover {\n",
              "      background-color: #E2EBFA;\n",
              "      box-shadow: 0px 1px 2px rgba(60, 64, 67, 0.3), 0px 1px 3px 1px rgba(60, 64, 67, 0.15);\n",
              "      fill: #174EA6;\n",
              "    }\n",
              "\n",
              "    [theme=dark] .colab-df-convert {\n",
              "      background-color: #3B4455;\n",
              "      fill: #D2E3FC;\n",
              "    }\n",
              "\n",
              "    [theme=dark] .colab-df-convert:hover {\n",
              "      background-color: #434B5C;\n",
              "      box-shadow: 0px 1px 3px 1px rgba(0, 0, 0, 0.15);\n",
              "      filter: drop-shadow(0px 1px 2px rgba(0, 0, 0, 0.3));\n",
              "      fill: #FFFFFF;\n",
              "    }\n",
              "  </style>\n",
              "\n",
              "      <script>\n",
              "        const buttonEl =\n",
              "          document.querySelector('#df-2bbb11e1-850a-415b-a43c-da2f936699a0 button.colab-df-convert');\n",
              "        buttonEl.style.display =\n",
              "          google.colab.kernel.accessAllowed ? 'block' : 'none';\n",
              "\n",
              "        async function convertToInteractive(key) {\n",
              "          const element = document.querySelector('#df-2bbb11e1-850a-415b-a43c-da2f936699a0');\n",
              "          const dataTable =\n",
              "            await google.colab.kernel.invokeFunction('convertToInteractive',\n",
              "                                                     [key], {});\n",
              "          if (!dataTable) return;\n",
              "\n",
              "          const docLinkHtml = 'Like what you see? Visit the ' +\n",
              "            '<a target=\"_blank\" href=https://colab.research.google.com/notebooks/data_table.ipynb>data table notebook</a>'\n",
              "            + ' to learn more about interactive tables.';\n",
              "          element.innerHTML = '';\n",
              "          dataTable['output_type'] = 'display_data';\n",
              "          await google.colab.output.renderOutput(dataTable, element);\n",
              "          const docLink = document.createElement('div');\n",
              "          docLink.innerHTML = docLinkHtml;\n",
              "          element.appendChild(docLink);\n",
              "        }\n",
              "      </script>\n",
              "    </div>\n",
              "  </div>\n",
              "  "
            ]
          },
          "metadata": {},
          "execution_count": 22
        }
      ],
      "source": [
        "df5 = data.groupby(['City','Complaint Type'])['Request_Closing_Time_mins'].mean()\n",
        "df5.unstack().fillna(0).head()"
      ]
    },
    {
      "cell_type": "markdown",
      "id": "ed4a7fbb",
      "metadata": {
        "id": "ed4a7fbb"
      },
      "source": [
        "# Task 5: Perform a statistical test for the following:\n",
        "\n",
        "# Please note: For the below statements you need to state the Null and Alternate and then provide a statistical test to accept or reject the Null Hypothesis along with the corresponding ‘p-value’.\n",
        "\n",
        "# Whether the average response time across complaint types is similar or not (overall)\n",
        "# Are the type of complaint or service requested and location related?"
      ]
    },
    {
      "cell_type": "code",
      "execution_count": 23,
      "id": "77602c38",
      "metadata": {
        "colab": {
          "base_uri": "https://localhost:8080/"
        },
        "id": "77602c38",
        "outputId": "605b45d9-0f2a-4be4-f1a7-9646b8c1881b"
      },
      "outputs": [
        {
          "output_type": "execute_result",
          "data": {
            "text/plain": [
              "array(['Noise - Street/Sidewalk', 'Blocked Driveway', 'Illegal Parking',\n",
              "       'Derelict Vehicle', 'Noise - Commercial',\n",
              "       'Noise - House of Worship', 'Posting Advertisement',\n",
              "       'Noise - Vehicle', 'Animal Abuse', 'Vending', 'Traffic',\n",
              "       'Drinking', 'Bike/Roller/Skate Chronic', 'Panhandling',\n",
              "       'Noise - Park', 'Homeless Encampment', 'Urinating in Public'],\n",
              "      dtype=object)"
            ]
          },
          "metadata": {},
          "execution_count": 23
        }
      ],
      "source": [
        "data['Complaint Type'].unique()"
      ]
    },
    {
      "cell_type": "code",
      "execution_count": 24,
      "id": "76c4cdae",
      "metadata": {
        "colab": {
          "base_uri": "https://localhost:8080/",
          "height": 282
        },
        "id": "76c4cdae",
        "outputId": "f66a69da-7397-4ed8-c21a-3d2ca1c48d23"
      },
      "outputs": [
        {
          "output_type": "execute_result",
          "data": {
            "text/plain": [
              "<Axes: >"
            ]
          },
          "metadata": {},
          "execution_count": 24
        },
        {
          "output_type": "display_data",
          "data": {
            "text/plain": [
              "<Figure size 432x288 with 1 Axes>"
            ],
            "image/png": "[encoded data removed]"
          },
          "metadata": {
            "needs_background": "light"
          }
        }
      ],
      "source": [
        "df6= data[data['Complaint Type']== 'Blocked Driveway']['Request_Closing_Time_mins']\n",
        "df6.hist(range=(0,1500)) "
      ]
    },
    {
      "cell_type": "code",
      "execution_count": 25,
      "id": "6218c8a5",
      "metadata": {
        "colab": {
          "base_uri": "https://localhost:8080/",
          "height": 282
        },
        "id": "6218c8a5",
        "outputId": "d3dc2bcb-2a3e-42da-bd62-9c2d3c3fc56c"
      },
      "outputs": [
        {
          "output_type": "execute_result",
          "data": {
            "text/plain": [
              "<Axes: >"
            ]
          },
          "metadata": {},
          "execution_count": 25
        },
        {
          "output_type": "display_data",
          "data": {
            "text/plain": [
              "<Figure size 432x288 with 1 Axes>"
            ],
            "image/png": "[encoded data removed]"
          },
          "metadata": {
            "needs_background": "light"
          }
        }
      ],
      "source": [
        "df7= data[data['Complaint Type']== 'Noise - Street/Sidewalk']['Request_Closing_Time_mins']\n",
        "df7.hist(range=(0,1500)) # Simiar result"
      ]
    },
    {
      "cell_type": "code",
      "execution_count": 26,
      "id": "f0ab21f0",
      "metadata": {
        "id": "f0ab21f0"
      },
      "outputs": [],
      "source": [
        "# Applying log transformation\n",
        "dataset={}\n",
        "for i in data['Complaint Type'].unique():\n",
        "    dataset[i]= np.log(data[data['Complaint Type']==i]['Request_Closing_Time_mins'])\n",
        "    \n"
      ]
    },
    {
      "cell_type": "code",
      "execution_count": 27,
      "id": "a3fcd943",
      "metadata": {
        "colab": {
          "base_uri": "https://localhost:8080/"
        },
        "id": "a3fcd943",
        "outputId": "4fc5fb58-2795-4dac-aad5-79449efee37a"
      },
      "outputs": [
        {
          "output_type": "execute_result",
          "data": {
            "text/plain": [
              "dict_keys(['Noise - Street/Sidewalk', 'Blocked Driveway', 'Illegal Parking', 'Derelict Vehicle', 'Noise - Commercial', 'Noise - House of Worship', 'Posting Advertisement', 'Noise - Vehicle', 'Animal Abuse', 'Vending', 'Traffic', 'Drinking', 'Bike/Roller/Skate Chronic', 'Panhandling', 'Noise - Park', 'Homeless Encampment', 'Urinating in Public'])"
            ]
          },
          "metadata": {},
          "execution_count": 27
        }
      ],
      "source": [
        "dataset.keys()"
      ]
    },
    {
      "cell_type": "code",
      "execution_count": 28,
      "id": "ceff515b",
      "metadata": {
        "colab": {
          "base_uri": "https://localhost:8080/",
          "height": 282
        },
        "id": "ceff515b",
        "outputId": "29a62954-4a16-45a5-bc7e-8ed3b717f40a"
      },
      "outputs": [
        {
          "output_type": "execute_result",
          "data": {
            "text/plain": [
              "<Axes: >"
            ]
          },
          "metadata": {},
          "execution_count": 28
        },
        {
          "output_type": "display_data",
          "data": {
            "text/plain": [
              "<Figure size 432x288 with 1 Axes>"
            ],
            "image/png": "[encoded data removed]"
          },
          "metadata": {
            "needs_background": "light"
          }
        }
      ],
      "source": [
        "dataset['Blocked Driveway'].hist()"
      ]
    },
    {
      "cell_type": "code",
      "execution_count": 29,
      "id": "7272f84c",
      "metadata": {
        "colab": {
          "base_uri": "https://localhost:8080/",
          "height": 282
        },
        "id": "7272f84c",
        "outputId": "790b9e23-6ab4-460d-a201-aed224b5682c"
      },
      "outputs": [
        {
          "output_type": "execute_result",
          "data": {
            "text/plain": [
              "<Axes: >"
            ]
          },
          "metadata": {},
          "execution_count": 29
        },
        {
          "output_type": "display_data",
          "data": {
            "text/plain": [
              "<Figure size 432x288 with 1 Axes>"
            ],
            "image/png": "[encoded data removed]"
          },
          "metadata": {
            "needs_background": "light"
          }
        }
      ],
      "source": [
        "dataset['Noise - Street/Sidewalk'].hist()"
      ]
    },
    {
      "cell_type": "code",
      "execution_count": 30,
      "id": "54d017e1",
      "metadata": {
        "colab": {
          "base_uri": "https://localhost:8080/",
          "height": 283
        },
        "id": "54d017e1",
        "outputId": "39a2536f-209b-4599-bfa0-f909d176974c"
      },
      "outputs": [
        {
          "output_type": "execute_result",
          "data": {
            "text/plain": [
              "<Axes: >"
            ]
          },
          "metadata": {},
          "execution_count": 30
        },
        {
          "output_type": "display_data",
          "data": {
            "text/plain": [
              "<Figure size 432x288 with 1 Axes>"
            ],
            "image/png": "[encoded data removed]"
          },
          "metadata": {
            "needs_background": "light"
          }
        }
      ],
      "source": [
        "dataset['Derelict Vehicle'].hist()"
      ]
    },
    {
      "cell_type": "markdown",
      "id": "090854e3",
      "metadata": {
        "id": "090854e3"
      },
      "source": [
        "# ANOVA Analysis (Checking for top 5 complaints)\n",
        "# Null Hypothesis(H0): The average response time across complaint types is not different\n",
        "# Alternate Hypothesis(Ha): The average response time across complaint types is different"
      ]
    },
    {
      "cell_type": "code",
      "execution_count": 31,
      "id": "25c5acc4",
      "metadata": {
        "id": "25c5acc4"
      },
      "outputs": [],
      "source": [
        "from scipy.stats import f_oneway"
      ]
    },
    {
      "cell_type": "code",
      "execution_count": 32,
      "id": "1ce3f0f0",
      "metadata": {
        "colab": {
          "base_uri": "https://localhost:8080/"
        },
        "id": "1ce3f0f0",
        "outputId": "5e5ec4c9-bc34-4c28-d96a-18859912fcdc"
      },
      "outputs": [
        {
          "output_type": "stream",
          "name": "stdout",
          "text": [
            "Null hypothesis is rejected\n"
          ]
        }
      ],
      "source": [
        "stat,pvalue = f_oneway(dataset['Noise - Street/Sidewalk'], dataset['Blocked Driveway'], dataset['Illegal Parking'], dataset['Derelict Vehicle'], \n",
        "                dataset['Noise - Commercial'])\n",
        "alpha=0.05\n",
        "if pvalue>0.05:\n",
        "    print('Null Hypothesis is accepted')\n",
        "else:\n",
        "    print('Null hypothesis is rejected')"
      ]
    },
    {
      "cell_type": "markdown",
      "id": "e6148470",
      "metadata": {
        "id": "e6148470"
      },
      "source": [
        "# Chi Square\n",
        "# H0:Complaint Type and Location Type are independent\n",
        "# H1:Complaint Type and Location Type are related"
      ]
    },
    {
      "cell_type": "code",
      "execution_count": 33,
      "id": "14b30f56",
      "metadata": {
        "id": "14b30f56"
      },
      "outputs": [],
      "source": [
        "chi_sq=pd.DataFrame()\n",
        "chi_sq[\"Location Type\"]=data[\"Location Type\"]\n",
        "chi_sq[\"Complaint Type\"]=data[\"Complaint Type\"]\n",
        "\n",
        "chi_sq.dropna(inplace=True)"
      ]
    },
    {
      "cell_type": "code",
      "execution_count": 34,
      "id": "6cd85ebf",
      "metadata": {
        "colab": {
          "base_uri": "https://localhost:8080/",
          "height": 423
        },
        "id": "6cd85ebf",
        "outputId": "154e310d-c28a-4127-a9b3-c4f32c6aceab"
      },
      "outputs": [
        {
          "output_type": "execute_result",
          "data": {
            "text/plain": [
              "            Location Type           Complaint Type\n",
              "0         Street/Sidewalk  Noise - Street/Sidewalk\n",
              "1         Street/Sidewalk         Blocked Driveway\n",
              "2         Street/Sidewalk         Blocked Driveway\n",
              "3         Street/Sidewalk          Illegal Parking\n",
              "4         Street/Sidewalk          Illegal Parking\n",
              "...                   ...                      ...\n",
              "1662      Street/Sidewalk  Noise - Street/Sidewalk\n",
              "1663  Club/Bar/Restaurant       Noise - Commercial\n",
              "1664      Street/Sidewalk  Noise - Street/Sidewalk\n",
              "1665  Club/Bar/Restaurant       Noise - Commercial\n",
              "1666      Street/Sidewalk         Blocked Driveway\n",
              "\n",
              "[1667 rows x 2 columns]"
            ],
            "text/html": [
              "\n",
              "  <div id=\"df-ffe20f2e-18a8-46e7-bc56-6e0180fb2616\">\n",
              "    <div class=\"colab-df-container\">\n",
              "      <div>\n",
              "<style scoped>\n",
              "    .dataframe tbody tr th:only-of-type {\n",
              "        vertical-align: middle;\n",
              "    }\n",
              "\n",
              "    .dataframe tbody tr th {\n",
              "        vertical-align: top;\n",
              "    }\n",
              "\n",
              "    .dataframe thead th {\n",
              "        text-align: right;\n",
              "    }\n",
              "</style>\n",
              "<table border=\"1\" class=\"dataframe\">\n",
              "  <thead>\n",
              "    <tr style=\"text-align: right;\">\n",
              "      <th></th>\n",
              "      <th>Location Type</th>\n",
              "      <th>Complaint Type</th>\n",
              "    </tr>\n",
              "  </thead>\n",
              "  <tbody>\n",
              "    <tr>\n",
              "      <th>0</th>\n",
              "      <td>Street/Sidewalk</td>\n",
              "      <td>Noise - Street/Sidewalk</td>\n",
              "    </tr>\n",
              "    <tr>\n",
              "      <th>1</th>\n",
              "      <td>Street/Sidewalk</td>\n",
              "      <td>Blocked Driveway</td>\n",
              "    </tr>\n",
              "    <tr>\n",
              "      <th>2</th>\n",
              "      <td>Street/Sidewalk</td>\n",
              "      <td>Blocked Driveway</td>\n",
              "    </tr>\n",
              "    <tr>\n",
              "      <th>3</th>\n",
              "      <td>Street/Sidewalk</td>\n",
              "      <td>Illegal Parking</td>\n",
              "    </tr>\n",
              "    <tr>\n",
              "      <th>4</th>\n",
              "      <td>Street/Sidewalk</td>\n",
              "      <td>Illegal Parking</td>\n",
              "    </tr>\n",
              "    <tr>\n",
              "      <th>...</th>\n",
              "      <td>...</td>\n",
              "      <td>...</td>\n",
              "    </tr>\n",
              "    <tr>\n",
              "      <th>1662</th>\n",
              "      <td>Street/Sidewalk</td>\n",
              "      <td>Noise - Street/Sidewalk</td>\n",
              "    </tr>\n",
              "    <tr>\n",
              "      <th>1663</th>\n",
              "      <td>Club/Bar/Restaurant</td>\n",
              "      <td>Noise - Commercial</td>\n",
              "    </tr>\n",
              "    <tr>\n",
              "      <th>1664</th>\n",
              "      <td>Street/Sidewalk</td>\n",
              "      <td>Noise - Street/Sidewalk</td>\n",
              "    </tr>\n",
              "    <tr>\n",
              "      <th>1665</th>\n",
              "      <td>Club/Bar/Restaurant</td>\n",
              "      <td>Noise - Commercial</td>\n",
              "    </tr>\n",
              "    <tr>\n",
              "      <th>1666</th>\n",
              "      <td>Street/Sidewalk</td>\n",
              "      <td>Blocked Driveway</td>\n",
              "    </tr>\n",
              "  </tbody>\n",
              "</table>\n",
              "<p>1667 rows × 2 columns</p>\n",
              "</div>\n",
              "      <button class=\"colab-df-convert\" onclick=\"convertToInteractive('df-ffe20f2e-18a8-46e7-bc56-6e0180fb2616')\"\n",
              "              title=\"Convert this dataframe to an interactive table.\"\n",
              "              style=\"display:none;\">\n",
              "        \n",
              "  <svg xmlns=\"http://www.w3.org/2000/svg\" height=\"24px\"viewBox=\"0 0 24 24\"\n",
              "       width=\"24px\">\n",
              "    <path d=\"M0 0h24v24H0V0z\" fill=\"none\"/>\n",
              "    <path d=\"M18.56 5.44l.94 2.06.94-2.06 2.06-.94-2.06-.94-.94-2.06-.94 2.06-2.06.94zm-11 1L8.5 8.5l.94-2.06 2.06-.94-2.06-.94L8.5 2.5l-.94 2.06-2.06.94zm10 10l.94 2.06.94-2.06 2.06-.94-2.06-.94-.94-2.06-.94 2.06-2.06.94z\"/><path d=\"M17.41 7.96l-1.37-1.37c-.4-.4-.92-.59-1.43-.59-.52 0-1.04.2-1.43.59L10.3 9.45l-7.72 7.72c-.78.78-.78 2.05 0 2.83L4 21.41c.39.39.9.59 1.41.59.51 0 1.02-.2 1.41-.59l7.78-7.78 2.81-2.81c.8-.78.8-2.07 0-2.86zM5.41 20L4 18.59l7.72-7.72 1.47 1.35L5.41 20z\"/>\n",
              "  </svg>\n",
              "      </button>\n",
              "      \n",
              "  <style>\n",
              "    .colab-df-container {\n",
              "      display:flex;\n",
              "      flex-wrap:wrap;\n",
              "      gap: 12px;\n",
              "    }\n",
              "\n",
              "    .colab-df-convert {\n",
              "      background-color: #E8F0FE;\n",
              "      border: none;\n",
              "      border-radius: 50%;\n",
              "      cursor: pointer;\n",
              "      display: none;\n",
              "      fill: #1967D2;\n",
              "      height: 32px;\n",
              "      padding: 0 0 0 0;\n",
              "      width: 32px;\n",
              "    }\n",
              "\n",
              "    .colab-df-convert:hover {\n",
              "      background-color: #E2EBFA;\n",
              "      box-shadow: 0px 1px 2px rgba(60, 64, 67, 0.3), 0px 1px 3px 1px rgba(60, 64, 67, 0.15);\n",
              "      fill: #174EA6;\n",
              "    }\n",
              "\n",
              "    [theme=dark] .colab-df-convert {\n",
              "      background-color: #3B4455;\n",
              "      fill: #D2E3FC;\n",
              "    }\n",
              "\n",
              "    [theme=dark] .colab-df-convert:hover {\n",
              "      background-color: #434B5C;\n",
              "      box-shadow: 0px 1px 3px 1px rgba(0, 0, 0, 0.15);\n",
              "      filter: drop-shadow(0px 1px 2px rgba(0, 0, 0, 0.3));\n",
              "      fill: #FFFFFF;\n",
              "    }\n",
              "  </style>\n",
              "\n",
              "      <script>\n",
              "        const buttonEl =\n",
              "          document.querySelector('#df-ffe20f2e-18a8-46e7-bc56-6e0180fb2616 button.colab-df-convert');\n",
              "        buttonEl.style.display =\n",
              "          google.colab.kernel.accessAllowed ? 'block' : 'none';\n",
              "\n",
              "        async function convertToInteractive(key) {\n",
              "          const element = document.querySelector('#df-ffe20f2e-18a8-46e7-bc56-6e0180fb2616');\n",
              "          const dataTable =\n",
              "            await google.colab.kernel.invokeFunction('convertToInteractive',\n",
              "                                                     [key], {});\n",
              "          if (!dataTable) return;\n",
              "\n",
              "          const docLinkHtml = 'Like what you see? Visit the ' +\n",
              "            '<a target=\"_blank\" href=https://colab.research.google.com/notebooks/data_table.ipynb>data table notebook</a>'\n",
              "            + ' to learn more about interactive tables.';\n",
              "          element.innerHTML = '';\n",
              "          dataTable['output_type'] = 'display_data';\n",
              "          await google.colab.output.renderOutput(dataTable, element);\n",
              "          const docLink = document.createElement('div');\n",
              "          docLink.innerHTML = docLinkHtml;\n",
              "          element.appendChild(docLink);\n",
              "        }\n",
              "      </script>\n",
              "    </div>\n",
              "  </div>\n",
              "  "
            ]
          },
          "metadata": {},
          "execution_count": 34
        }
      ],
      "source": [
        "chi_sq"
      ]
    },
    {
      "cell_type": "code",
      "execution_count": 35,
      "id": "4741514e",
      "metadata": {
        "id": "4741514e"
      },
      "outputs": [],
      "source": [
        "data_crosstab = pd.crosstab( chi_sq[\"Location Type\"],chi_sq[\"Complaint Type\"])"
      ]
    },
    {
      "cell_type": "code",
      "execution_count": 36,
      "id": "341bbf85",
      "metadata": {
        "colab": {
          "base_uri": "https://localhost:8080/"
        },
        "id": "341bbf85",
        "outputId": "a104f7f3-0f56-412f-dda6-28e625fa250c"
      },
      "outputs": [
        {
          "output_type": "stream",
          "name": "stdout",
          "text": [
            "Dependent (reject H0)\n"
          ]
        }
      ],
      "source": [
        "from scipy.stats import chi2_contingency\n",
        "stat, p, dof, expected = chi2_contingency(data_crosstab) \n",
        "\n",
        "alpha = 0.05\n",
        "if p <= alpha: \n",
        "    print('Dependent (reject H0)') \n",
        "else: \n",
        "    print('Independent (H0 holds true)')"
      ]
    },
    {
      "cell_type": "code",
      "execution_count": null,
      "id": "6f30187d",
      "metadata": {
        "id": "6f30187d"
      },
      "outputs": [],
      "source": []
    },
    {
      "cell_type": "markdown",
      "source": [
        "Thank You....\n",
        "From Shyam Prasad"
      ],
      "metadata": {
        "id": "IpTpyM_FlcDX"
      },
      "id": "IpTpyM_FlcDX"
    }
  ],
  "metadata": {
    "kernelspec": {
      "display_name": "Python 3 (ipykernel)",
      "language": "python",
      "name": "python3"
    },
    "language_info": {
      "codemirror_mode": {
        "name": "ipython",
        "version": 3
      },
      "file_extension": ".py",
      "mimetype": "text/x-python",
      "name": "python",
      "nbconvert_exporter": "python",
      "pygments_lexer": "ipython3",
      "version": "3.9.7"
    },
    "colab": {
      "provenance": []
    }
  },
  "nbformat": 4,
  "nbformat_minor": 5
}